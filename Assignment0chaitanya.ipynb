{
  "nbformat": 4,
  "nbformat_minor": 0,
  "metadata": {
    "colab": {
      "provenance": [],
      "authorship_tag": "ABX9TyM2zmqCKMg3K6WMgEIiibBr",
      "include_colab_link": true
    },
    "kernelspec": {
      "name": "python3",
      "display_name": "Python 3"
    },
    "language_info": {
      "name": "python"
    }
  },
  "cells": [
    {
      "cell_type": "markdown",
      "metadata": {
        "id": "view-in-github",
        "colab_type": "text"
      },
      "source": [
        "<a href=\"https://colab.research.google.com/github/Chaitanya197633/Pulpnet/blob/main/Assignment0chaitanya.ipynb\" target=\"_parent\"><img src=\"https://colab.research.google.com/assets/colab-badge.svg\" alt=\"Open In Colab\"/></a>"
      ]
    },
    {
      "cell_type": "code",
      "execution_count": null,
      "metadata": {
        "colab": {
          "base_uri": "https://localhost:8080/"
        },
        "id": "JlToXFlyMvEc",
        "outputId": "a3c0d64c-2693-4724-beaf-e00c74680949"
      },
      "outputs": [
        {
          "output_type": "stream",
          "name": "stdout",
          "text": [
            "[10, 20, 25, 30, 35, 40, 45, 60, 75, 90]\n"
          ]
        }
      ],
      "source": [
        "list = [10,20,25,30,35]\n",
        "secondlist = [40,45,60,75,90]\n",
        "finallist = list +secondlist\n",
        "print(finallist)"
      ]
    },
    {
      "cell_type": "code",
      "source": [
        "for i in range(1, 11):\n",
        "    for j in range(1, 11):\n",
        "        product = i * j\n",
        "        if product >= 100:\n",
        "            spacing = 1\n",
        "        elif product >= 10:\n",
        "            spacing = 2\n",
        "        else:\n",
        "            spacing = 3\n",
        "        print(product, end=\" \" * spacing)\n",
        "    print()\n"
      ],
      "metadata": {
        "colab": {
          "base_uri": "https://localhost:8080/"
        },
        "id": "8xNrYIlQNQc5",
        "outputId": "f6344136-e278-4364-882e-400ef7e30d8d"
      },
      "execution_count": null,
      "outputs": [
        {
          "output_type": "stream",
          "name": "stdout",
          "text": [
            "1   2   3   4   5   6   7   8   9   10  \n",
            "2   4   6   8   10  12  14  16  18  20  \n",
            "3   6   9   12  15  18  21  24  27  30  \n",
            "4   8   12  16  20  24  28  32  36  40  \n",
            "5   10  15  20  25  30  35  40  45  50  \n",
            "6   12  18  24  30  36  42  48  54  60  \n",
            "7   14  21  28  35  42  49  56  63  70  \n",
            "8   16  24  32  40  48  56  64  72  80  \n",
            "9   18  27  36  45  54  63  72  81  90  \n",
            "10  20  30  40  50  60  70  80  90  100 \n"
          ]
        }
      ]
    },
    {
      "cell_type": "code",
      "source": [
        "\n",
        "\n",
        "n = 5\n",
        "for i in range(n, 0, -1):\n",
        "    for j in range(i):\n",
        "        print(\"0\",end=\" \")\n",
        "    print()\n"
      ],
      "metadata": {
        "colab": {
          "base_uri": "https://localhost:8080/"
        },
        "id": "hObySN8POQ2s",
        "outputId": "d89b7f94-de93-407c-f56a-e39e03894867"
      },
      "execution_count": null,
      "outputs": [
        {
          "output_type": "stream",
          "name": "stdout",
          "text": [
            "0 0 0 0 0 \n",
            "0 0 0 0 \n",
            "0 0 0 \n",
            "0 0 \n",
            "0 \n"
          ]
        }
      ]
    },
    {
      "cell_type": "code",
      "source": [
        "\n",
        "\n",
        "vegetables = [\"eggplant\", \"broccoli\", \"carrot\", \"cauliflower\", \"zucchini\"]\n",
        "vegetables.append(\"tomato\")\n",
        "vegetables.sort()\n",
        "print(vegetables)\n"
      ],
      "metadata": {
        "colab": {
          "base_uri": "https://localhost:8080/"
        },
        "outputId": "274c39e0-af06-44a4-9bae-c1ddbd2e1b6b",
        "id": "STKF4p8LR8TT"
      },
      "execution_count": null,
      "outputs": [
        {
          "output_type": "stream",
          "name": "stdout",
          "text": [
            "['broccoli', 'carrot', 'cauliflower', 'eggplant', 'tomato', 'zucchini']\n"
          ]
        }
      ]
    },
    {
      "cell_type": "code",
      "source": [
        "def is_odd(number):\n",
        "    return number % 2 != 0\n",
        "\n",
        "print(is_odd(5))\n"
      ],
      "metadata": {
        "colab": {
          "base_uri": "https://localhost:8080/"
        },
        "outputId": "680fa8c3-a1ab-43c5-bf90-e4d75c776e14",
        "id": "Mgepk1l0SNlm"
      },
      "execution_count": null,
      "outputs": [
        {
          "output_type": "stream",
          "name": "stdout",
          "text": [
            "True\n"
          ]
        }
      ]
    },
    {
      "cell_type": "code",
      "source": [
        "\n",
        "def mode(numbers):\n",
        "    if not numbers:\n",
        "        return None\n",
        "\n",
        "    frequency = {}\n",
        "    for num in numbers:\n",
        "        if num in frequency:\n",
        "            frequency[num] += 1\n",
        "        else:\n",
        "            frequency[num] = 1\n",
        "\n",
        "    max_count = 0\n",
        "    most_common = None\n",
        "    for num, count in frequency.items():\n",
        "        if count > max_count:\n",
        "            max_count = count\n",
        "            most_common = num\n",
        "\n",
        "    return most_common\n"
      ],
      "metadata": {
        "id": "n-c0W-OmTONW"
      },
      "execution_count": null,
      "outputs": []
    },
    {
      "cell_type": "markdown",
      "source": [
        "NUMPY"
      ],
      "metadata": {
        "id": "lLRXe58O8SUA"
      }
    },
    {
      "cell_type": "code",
      "source": [
        "import numpy as np\n",
        "\n",
        "arr = np.arange(10, 90, 10, dtype=np.uint16).reshape(4, 2)\n",
        "print(\"Array:\\n\", arr)\n",
        "print(\"Shape of the array:\", arr.shape)\n",
        "print(\"Array dimensions:\", arr.ndim)\n",
        "print(\"Length of each element in bytes:\", arr.itemsize)\n"
      ],
      "metadata": {
        "colab": {
          "base_uri": "https://localhost:8080/"
        },
        "id": "H0ip0LxY8Ua9",
        "outputId": "d0761be2-bc2b-41f8-99cc-bf3e57442080"
      },
      "execution_count": 3,
      "outputs": [
        {
          "output_type": "stream",
          "name": "stdout",
          "text": [
            "Array:\n",
            " [[10 20]\n",
            " [30 40]\n",
            " [50 60]\n",
            " [70 80]]\n",
            "Shape of the array: (4, 2)\n",
            "Array dimensions: 2\n",
            "Length of each element in bytes: 2\n"
          ]
        }
      ]
    },
    {
      "cell_type": "code",
      "source": [
        "import numpy as np\n",
        "\n",
        "Array = np.array([[11, 22, 33], [44, 55, 66], [77, 88, 99]])\n",
        "third_column = Array[:, 2]\n",
        "print(\"Third column from all rows:\", third_column)\n"
      ],
      "metadata": {
        "colab": {
          "base_uri": "https://localhost:8080/"
        },
        "id": "zUpfZPqA9A50",
        "outputId": "84c44413-c578-4417-e858-8eb67f1dd8f4"
      },
      "execution_count": 4,
      "outputs": [
        {
          "output_type": "stream",
          "name": "stdout",
          "text": [
            "Third column from all rows: [33 66 99]\n"
          ]
        }
      ]
    },
    {
      "cell_type": "code",
      "source": [
        "import numpy as np\n",
        "\n",
        "arr = np.array([[34, 43, 73],\n",
        "                [82, 22, 12],\n",
        "                [53, 94, 66]])\n",
        "sorted_indices = np.argsort(arr[1])\n",
        "sorted_by_second_row = arr[:, sorted_indices]\n",
        "print(\"Sorted by second row:\\n\", sorted_by_second_row)\n",
        "sorted_indices_col = np.argsort(arr[:, 1])\n",
        "sorted_by_second_col = arr[sorted_indices_col]\n",
        "print(\"Sorted by second column:\\n\", sorted_by_second_col)\n",
        "\n",
        "\n"
      ],
      "metadata": {
        "colab": {
          "base_uri": "https://localhost:8080/"
        },
        "id": "gdS_tcTM9Wuc",
        "outputId": "72b41275-f5cc-4c09-d4c7-e55f1d1c0561"
      },
      "execution_count": 6,
      "outputs": [
        {
          "output_type": "stream",
          "name": "stdout",
          "text": [
            "Sorted by second row:\n",
            " [[73 43 34]\n",
            " [12 22 82]\n",
            " [66 94 53]]\n",
            "Sorted by second column:\n",
            " [[82 22 12]\n",
            " [34 43 73]\n",
            " [53 94 66]]\n"
          ]
        }
      ]
    },
    {
      "cell_type": "markdown",
      "source": [
        "In the question below help was taken from Chatgpt"
      ],
      "metadata": {
        "id": "Nw6XAAXLFZMd"
      }
    },
    {
      "cell_type": "code",
      "source": [
        "import pandas as pd\n",
        "import requests\n",
        "from io import StringIO\n",
        "\n",
        "\n",
        "url = \"https://pynative.com/wp-content/uploads/2019/01/Automobile_data.csv\"\n",
        "\n",
        "\n",
        "headers = {\n",
        "    \"User-Agent\": \"Mozilla/5.0\"\n",
        "}\n",
        "\n",
        "\n",
        "response = requests.get(url, headers=headers)\n",
        "\n",
        "\n",
        "csv_data = StringIO(response.text)\n",
        "\n",
        "\n",
        "df = pd.read_csv(csv_data)\n",
        "\n",
        "\n",
        "print(\"First 5 rows:\")\n",
        "print(df.head())\n",
        "\n",
        "print(\"\\nLast 5 rows:\")\n",
        "print(df.tail())\n"
      ],
      "metadata": {
        "colab": {
          "base_uri": "https://localhost:8080/"
        },
        "id": "YVBhlMmPEDY1",
        "outputId": "a30c51dc-e403-4533-f67a-6074b3cc3cbe"
      },
      "execution_count": 8,
      "outputs": [
        {
          "output_type": "stream",
          "name": "stdout",
          "text": [
            "First 5 rows:\n",
            "   index      company   body-style  wheel-base  length engine-type  \\\n",
            "0      0  alfa-romero  convertible        88.6   168.8        dohc   \n",
            "1      1  alfa-romero  convertible        88.6   168.8        dohc   \n",
            "2      2  alfa-romero    hatchback        94.5   171.2        ohcv   \n",
            "3      3         audi        sedan        99.8   176.6         ohc   \n",
            "4      4         audi        sedan        99.4   176.6         ohc   \n",
            "\n",
            "  num-of-cylinders  horsepower  average-mileage    price  \n",
            "0             four         111               21  13495.0  \n",
            "1             four         111               21  16500.0  \n",
            "2              six         154               19  16500.0  \n",
            "3             four         102               24  13950.0  \n",
            "4             five         115               18  17450.0  \n",
            "\n",
            "Last 5 rows:\n",
            "    index     company body-style  wheel-base  length engine-type  \\\n",
            "56     81  volkswagen      sedan        97.3   171.7         ohc   \n",
            "57     82  volkswagen      sedan        97.3   171.7         ohc   \n",
            "58     86  volkswagen      sedan        97.3   171.7         ohc   \n",
            "59     87       volvo      sedan       104.3   188.8         ohc   \n",
            "60     88       volvo      wagon       104.3   188.8         ohc   \n",
            "\n",
            "   num-of-cylinders  horsepower  average-mileage    price  \n",
            "56             four          85               27   7975.0  \n",
            "57             four          52               37   7995.0  \n",
            "58             four         100               26   9995.0  \n",
            "59             four         114               23  12940.0  \n",
            "60             four         114               23  13415.0  \n"
          ]
        }
      ]
    },
    {
      "cell_type": "code",
      "source": [
        "import pandas as pd\n",
        "import requests\n",
        "from io import StringIO\n",
        "\n",
        "url = \"https://pynative.com/wp-content/uploads/2019/01/Automobile_data.csv\"\n",
        "headers = {\"User-Agent\": \"Mozilla/5.0\"}\n",
        "response = requests.get(url, headers=headers)\n",
        "data = StringIO(response.text)\n",
        "df = pd.read_csv(data)\n",
        "df.replace([\"?\", \"n.a\"], pd.NA, inplace=True)\n",
        "df.fillna(method=\"ffill\", inplace=True)\n",
        "print(df.head())\n"
      ],
      "metadata": {
        "colab": {
          "base_uri": "https://localhost:8080/"
        },
        "id": "cibqJ5QLFpW6",
        "outputId": "6c9dab35-187a-483a-a146-a4352ca4702a"
      },
      "execution_count": 9,
      "outputs": [
        {
          "output_type": "stream",
          "name": "stdout",
          "text": [
            "   index      company   body-style  wheel-base  length engine-type  \\\n",
            "0      0  alfa-romero  convertible        88.6   168.8        dohc   \n",
            "1      1  alfa-romero  convertible        88.6   168.8        dohc   \n",
            "2      2  alfa-romero    hatchback        94.5   171.2        ohcv   \n",
            "3      3         audi        sedan        99.8   176.6         ohc   \n",
            "4      4         audi        sedan        99.4   176.6         ohc   \n",
            "\n",
            "  num-of-cylinders  horsepower  average-mileage    price  \n",
            "0             four         111               21  13495.0  \n",
            "1             four         111               21  16500.0  \n",
            "2              six         154               19  16500.0  \n",
            "3             four         102               24  13950.0  \n",
            "4             five         115               18  17450.0  \n"
          ]
        },
        {
          "output_type": "stream",
          "name": "stderr",
          "text": [
            "<ipython-input-9-4da5d00252e1>:11: FutureWarning: DataFrame.fillna with 'method' is deprecated and will raise in a future version. Use obj.ffill() or obj.bfill() instead.\n",
            "  df.fillna(method=\"ffill\", inplace=True)\n"
          ]
        }
      ]
    },
    {
      "cell_type": "code",
      "source": [
        "import pandas as pd\n",
        "import requests\n",
        "from io import StringIO\n",
        "\n",
        "\n",
        "url = \"https://pynative.com/wp-content/uploads/2019/01/Automobile_data.csv\"\n",
        "headers = {\"User-Agent\": \"Mozilla/5.0\"}\n",
        "response = requests.get(url, headers=headers)\n",
        "data = StringIO(response.text)\n",
        "df = pd.read_csv(data)\n",
        "df.replace([\"?\", \"n.a\"], pd.NA, inplace=True)\n",
        "df.fillna(method=\"ffill\", inplace=True)\n",
        "counts = df[\"company\"].value_counts()\n",
        "print(\"Number of cars per company:\")\n",
        "print(counts)\n"
      ],
      "metadata": {
        "colab": {
          "base_uri": "https://localhost:8080/"
        },
        "id": "3s91cuPzGPYb",
        "outputId": "ed90d0d7-a717-4c2d-fa85-129c1d4a0266"
      },
      "execution_count": 10,
      "outputs": [
        {
          "output_type": "stream",
          "name": "stdout",
          "text": [
            "Number of cars per company:\n",
            "company\n",
            "toyota           7\n",
            "bmw              6\n",
            "mazda            5\n",
            "nissan           5\n",
            "mercedes-benz    4\n",
            "audi             4\n",
            "volkswagen       4\n",
            "mitsubishi       4\n",
            "chevrolet        3\n",
            "jaguar           3\n",
            "isuzu            3\n",
            "honda            3\n",
            "porsche          3\n",
            "alfa-romero      3\n",
            "dodge            2\n",
            "volvo            2\n",
            "Name: count, dtype: int64\n"
          ]
        },
        {
          "output_type": "stream",
          "name": "stderr",
          "text": [
            "<ipython-input-10-c5c6f71a216f>:12: FutureWarning: DataFrame.fillna with 'method' is deprecated and will raise in a future version. Use obj.ffill() or obj.bfill() instead.\n",
            "  df.fillna(method=\"ffill\", inplace=True)\n"
          ]
        }
      ]
    },
    {
      "cell_type": "code",
      "source": [
        "import pandas as pd\n",
        "import matplotlib.pyplot as plt\n",
        "import requests\n",
        "from io import StringIO\n",
        "url = \"https://pynative.com/wp-content/uploads/2019/01/company_sales_data.csv\"\n",
        "headers = {\"User-Agent\": \"Mozilla/5.0\"}\n",
        "response = requests.get(url, headers=headers)\n",
        "data = StringIO(response.text)\n",
        "\n",
        "df = pd.read_csv(data)\n",
        "months = df['month_number']\n",
        "profits = df['total_profit']\n",
        "plt.plot(months, profits, color='green', marker='o', linestyle='solid')\n",
        "\n",
        "\n",
        "plt.title(\"Company Profit per Month\")\n",
        "plt.xlabel(\"Month Number\")\n",
        "plt.ylabel(\"Total Profit\")\n",
        "plt.grid(True)\n",
        "plt.show()\n"
      ],
      "metadata": {
        "colab": {
          "base_uri": "https://localhost:8080/",
          "height": 472
        },
        "id": "K8Xzm6eOGqet",
        "outputId": "105548f8-bca8-4a6a-c10f-c519465eda45"
      },
      "execution_count": 11,
      "outputs": [
        {
          "output_type": "display_data",
          "data": {
            "text/plain": [
              "<Figure size 640x480 with 1 Axes>"
            ],
            "image/png": "[encoded data removed]"
          },
          "metadata": {}
        }
      ]
    },
    {
      "cell_type": "code",
      "source": [
        "import pandas as pd\n",
        "import matplotlib.pyplot as plt\n",
        "import requests\n",
        "from io import StringIO\n",
        "\n",
        "url = \"https://pynative.com/wp-content/uploads/2019/01/company_sales_data.csv\"\n",
        "headers = {\"User-Agent\": \"Mozilla/5.0\"}\n",
        "response = requests.get(url, headers=headers)\n",
        "data = StringIO(response.text)\n",
        "df = pd.read_csv(data)\n",
        "\n",
        "months = df['month_number']\n",
        "face_cream_sales = df['facecream']\n",
        "face_wash_sales = df['facewash']\n",
        "\n",
        "bar_width = 0.4\n",
        "x_indexes = range(len(months))\n",
        "\n",
        "plt.bar([x - bar_width/2 for x in x_indexes], face_cream_sales,\n",
        "        width=bar_width, color='lightblue', label='Face Cream', edgecolor='black')\n",
        "\n",
        "plt.bar([x + bar_width/2 for x in x_indexes], face_wash_sales,\n",
        "        width=bar_width, color='salmon', label='Face Wash', edgecolor='black')\n",
        "\n",
        "plt.title('Monthly Sales of Face Cream and Face Wash Products', fontsize=14)\n",
        "plt.xlabel('Month Number', fontsize=12)\n",
        "plt.ylabel('Units Sold', fontsize=12)\n",
        "plt.xticks(ticks=x_indexes, labels=months)\n",
        "plt.legend()\n",
        "plt.grid(axis='y', linestyle='--', alpha=0.7)\n",
        "plt.tight_layout()\n",
        "plt.show()\n"
      ],
      "metadata": {
        "colab": {
          "base_uri": "https://localhost:8080/",
          "height": 487
        },
        "id": "0tgCrUvXHBzk",
        "outputId": "cddbb442-7622-4c5c-9a61-8426a1c8d6db"
      },
      "execution_count": 12,
      "outputs": [
        {
          "output_type": "display_data",
          "data": {
            "text/plain": [
              "<Figure size 640x480 with 1 Axes>"
            ],
            "image/png": "[encoded data removed]"
          },
          "metadata": {}
        }
      ]
    }
  ]
}