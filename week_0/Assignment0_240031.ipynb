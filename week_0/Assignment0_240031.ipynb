{
  "cells": [
    {
      "cell_type": "markdown",
      "metadata": {
        "id": "U2p472EZsFQh"
      },
      "source": [
        "# Assignment 0\n",
        "**Instrunctions for the assignment** \\\\\n",
        "\n",
        "*   Open Google Colab: Begin by launching Google Colab and creating a new Python notebook.\n",
        "*   Read Comments Carefully: Pay close attention to the comments provided within the codeblocks.\n",
        "\n",
        "\n",
        "*   Code Block Completion: Fill in the codeblocks as per the instructions given in the comments.\n",
        "*   Avoid Copying: Ensure that you understand the concepts and refrain from directly copying code from external sources.\n",
        "\n",
        "\n",
        "*   Execute Codeblocks: Verify that each codeblock runs without errors by executing them.\n",
        "*   Save and Submit: Once you've completed the assignment, save your notebook and follow the submission guidelines provided by your instructor.\n",
        "\n",
        "\n",
        "\n",
        "\n",
        "\n",
        "\n",
        "\n",
        "\n",
        "\n",
        "\n",
        "**Notes:**\n",
        "\n",
        "Encouragement: Take your time to understand the concepts behind each codeblock. This assignment aims to strengthen your Python programming skills. \\\\\n",
        "Good Luck! : If you have any questions or require clarification on any aspect of the instructions, feel free to ask. \\\\\n",
        " \\\\\n",
        "\n",
        "Best wishes for your assignment! These instructions are crafted to provide clarity and guidance as you work through the tasks in Google Colab.\n",
        "\n",
        "\n",
        "\n",
        "\n",
        "\n",
        "\n",
        "\n"
      ]
    },
    {
      "cell_type": "markdown",
      "metadata": {
        "id": "jGDFomGq3i87"
      },
      "source": [
        "## Getting Started\n",
        "Solving these exercises will help make you a better programmer. Solve them in order, because each solution builds scaffolding, working code, and knowledge you can use on future problems. Read the directions carefully, and have fun!\n",
        "\n",
        "\n",
        "\n",
        "*   To save your work to your Google Drive, go to File then \"Save Copy in Drive\".\n",
        "*   Your own work will now appear in your Google Drive account!\n",
        "*   Work on this copy as directed"
      ]
    },
    {
      "cell_type": "markdown",
      "metadata": {
        "id": "jZ1hWiMO4TTN"
      },
      "source": [
        "## What to do when you don't know what to do next\n",
        "- When the exercise asks you to reverse an list, the way forward is to search for \"How to reverse a list in Python\" in your favorite search engine.\n",
        "- When the exercise asks you to check if a number is even, the way forward is to search for \"how to check if a number is even in Python\".\n",
        "- When the exercise has you calculate the area of a circle, the way forward is to search for \"how to calculate the area of a circle in Python\" or \"How to get pi in Python\".\n",
        "\n",
        "😀😀"
      ]
    },
    {
      "cell_type": "markdown",
      "metadata": {
        "id": "LKjbv4-Mmp3_"
      },
      "source": [
        "## Basic Python Exercises"
      ]
    },
    {
      "cell_type": "markdown",
      "metadata": {
        "id": "POUIXeAkoAJy"
      },
      "source": [
        "1. Create a new list from two list \\\\\n",
        "list1 = [10, 20, 25, 30, 35] \\\\\n",
        "list2 = [40, 45, 60, 75, 90]"
      ]
    },
    {
      "cell_type": "code",
      "execution_count": 6,
      "metadata": {
        "colab": {
          "base_uri": "https://localhost:8080/"
        },
        "id": "083WsOfvmz3k",
        "outputId": "ecd4f84b-160e-4266-ee78-8eebc6c2155b"
      },
      "outputs": [
        {
          "name": "stdout",
          "output_type": "stream",
          "text": [
            "[10, 20, 25, 30, 35, 40, 45, 60, 75, 90]\n"
          ]
        }
      ],
      "source": [
        "list1 = [10, 20, 25, 30, 35]\n",
        "list2 = [40, 45, 60, 75, 90]\n",
        "for i in list2 :\n",
        "  list1.append(i)\n",
        "print(list1)"
      ]
    },
    {
      "cell_type": "markdown",
      "metadata": {
        "id": "mBuOTb3vo7SY"
      },
      "source": [
        "2. Print multiplication table from 1 to 10"
      ]
    },
    {
      "cell_type": "code",
      "execution_count": 8,
      "metadata": {
        "colab": {
          "base_uri": "https://localhost:8080/"
        },
        "id": "ALdwhW6uqRTB",
        "outputId": "0d992a3f-10eb-4845-b032-ac2751927194"
      },
      "outputs": [
        {
          "name": "stdout",
          "output_type": "stream",
          "text": [
            "1 2 3 4 5 6 7 8 9 10 \n",
            "2 4 6 8 10 12 14 16 18 20 \n",
            "3 6 9 12 15 18 21 24 27 30 \n",
            "4 8 12 16 20 24 28 32 36 40 \n",
            "5 10 15 20 25 30 35 40 45 50 \n",
            "6 12 18 24 30 36 42 48 54 60 \n",
            "7 14 21 28 35 42 49 56 63 70 \n",
            "8 16 24 32 40 48 56 64 72 80 \n",
            "9 18 27 36 45 54 63 72 81 90 \n",
            "10 20 30 40 50 60 70 80 90 100 \n"
          ]
        }
      ],
      "source": [
        "for i in range(1,11):\n",
        "  for j in range(1,11):\n",
        "    print(i*j,end = \" \")\n",
        "  print()"
      ]
    },
    {
      "cell_type": "markdown",
      "metadata": {
        "id": "rXhutUXXqR5x"
      },
      "source": [
        "3. Print a downward Half-Pyramid Pattern\n",
        "\n",
        "0 0 0 0 0   \n",
        "0 0 0 0 <br>\n",
        "0 0 0 <br>\n",
        "0 0 <br>\n",
        "0"
      ]
    },
    {
      "cell_type": "code",
      "execution_count": 9,
      "metadata": {
        "colab": {
          "base_uri": "https://localhost:8080/"
        },
        "id": "U9j7N1nrtw--",
        "outputId": "79f050c3-c889-42a4-9ed5-15adcf9b712d"
      },
      "outputs": [
        {
          "name": "stdout",
          "output_type": "stream",
          "text": [
            "0 0 0 0 0 \n",
            "0 0 0 0 \n",
            "0 0 0 \n",
            "0 0 \n",
            "0 \n"
          ]
        }
      ],
      "source": [
        "for i in range(5,0,-1):\n",
        "  for j in range(i):\n",
        "    print(0,end = \" \")\n",
        "  print()"
      ]
    },
    {
      "cell_type": "markdown",
      "metadata": {
        "id": "Re-QzSX4ugH-"
      },
      "source": [
        " 4. Given the following assignment of the vegetables list, add \"tomato\" to the end of the list and sort them in alphabetical order.\\\n",
        "vegetables = [\"eggplant\", \"broccoli\", \"carrot\",\"cauliflower\", \"zucchini\"]"
      ]
    },
    {
      "cell_type": "code",
      "execution_count": 12,
      "metadata": {
        "colab": {
          "base_uri": "https://localhost:8080/"
        },
        "id": "hnA-2EIDuxEH",
        "outputId": "2225058c-5c5c-45f5-efe5-c4824c60ffc1"
      },
      "outputs": [
        {
          "name": "stdout",
          "output_type": "stream",
          "text": [
            "['broccoli', 'carrot', 'cauliflower', 'eggplant', 'tomato', 'zucchini']\n"
          ]
        }
      ],
      "source": [
        "vegetables = [\"eggplant\", \"broccoli\", \"carrot\",\"cauliflower\", \"zucchini\"]\n",
        "vegetables.append(\"tomato\")\n",
        "vegtables = vegetables.sort()\n",
        "print(vegetables)"
      ]
    },
    {
      "cell_type": "markdown",
      "metadata": {
        "id": "ARyaOlp8uxix"
      },
      "source": [
        "5. Write a function definition named is_odd that takes in a number and returns True or False if that number is odd."
      ]
    },
    {
      "cell_type": "code",
      "execution_count": 13,
      "metadata": {
        "colab": {
          "base_uri": "https://localhost:8080/"
        },
        "id": "OztCSuVjvACz",
        "outputId": "021602e4-1e74-419d-cb01-72ddd1f6e7e9"
      },
      "outputs": [
        {
          "name": "stdout",
          "output_type": "stream",
          "text": [
            "True False\n"
          ]
        }
      ],
      "source": [
        "def is_odd(x):\n",
        "  if x%2 == 0:\n",
        "    return False\n",
        "  else:\n",
        "    return True\n",
        "print(is_odd(5),is_odd(4))"
      ]
    },
    {
      "cell_type": "markdown",
      "metadata": {
        "id": "GIAo6YfLu_AJ"
      },
      "source": [
        "6. Write a function definition named mode that takes in sequence of numbers and returns the most commonly occuring value"
      ]
    },
    {
      "cell_type": "code",
      "execution_count": null,
      "metadata": {
        "id": "WEikC1aTvXoS"
      },
      "outputs": [],
      "source": [
        "def mode(x):\n",
        "  return max(set(x),key = x.count())"
      ]
    },
    {
      "cell_type": "markdown",
      "metadata": {
        "id": "AKuHwB0lvZn-"
      },
      "source": [
        "## Numpy Exercises"
      ]
    },
    {
      "cell_type": "markdown",
      "metadata": {
        "id": "8f2ww678vf5S"
      },
      "source": [
        "Exercise 1: Create a 4X2 integer array and Prints its attributes \\\\\n",
        "**Note:** The element must be a type of unsigned int16. \\\\\n",
        "And print the following Attributes: –\n",
        "\n",
        "\n",
        "\n",
        "1.   The shape of an array.\n",
        "2.   Array dimensions.\n",
        "3.   The Length of each element of the array in bytes.\n",
        "\n",
        "\n",
        "\n",
        "\n",
        "\n"
      ]
    },
    {
      "cell_type": "code",
      "execution_count": 24,
      "metadata": {
        "colab": {
          "base_uri": "https://localhost:8080/"
        },
        "id": "2YMq_rbcwTeb",
        "outputId": "13bdd496-b3fb-4562-dc98-eb926bca0383"
      },
      "outputs": [
        {
          "name": "stdout",
          "output_type": "stream",
          "text": [
            "(4, 2)\n",
            "2\n",
            "4\n",
            "8\n"
          ]
        }
      ],
      "source": [
        "import numpy\n",
        "a = numpy.empty((4,2))\n",
        "print(a.shape)\n",
        "print(len(a[0]))\n",
        "print(len(a))\n",
        "print(a[0][0].itemsize)"
      ]
    },
    {
      "cell_type": "markdown",
      "metadata": {
        "id": "jLVSC8epw0Wz"
      },
      "source": [
        "Exercise 2: Following is the provided numPy array. Return array of items by taking the third column from all rows \\\\\n",
        "sampleArray = numpy.array ( [ [ 11 ,22, 33 ], [ 44, 55, 66 ], [ 77, 88, 99 ] ] )"
      ]
    },
    {
      "cell_type": "code",
      "execution_count": 43,
      "metadata": {
        "colab": {
          "base_uri": "https://localhost:8080/"
        },
        "id": "UVRODBc1wyjl",
        "outputId": "b400edf4-6816-4300-ddf2-482ecab63fd1"
      },
      "outputs": [
        {
          "name": "stdout",
          "output_type": "stream",
          "text": [
            "[33 66 99]\n"
          ]
        }
      ],
      "source": [
        "import numpy\n",
        "sampleArray = numpy.array ( [ [ 11 ,22, 33 ], [ 44, 55, 66 ], [ 77, 88, 99 ] ] )\n",
        "a = sampleArray[:,2]\n",
        "print(a)"
      ]
    },
    {
      "cell_type": "markdown",
      "metadata": {
        "id": "T72G3kpRxESl"
      },
      "source": [
        "Exercise 3: Sort following NumPy array \\\\\n",
        "Case 1: Sort array by the second row \\\\\n",
        "Case 2: Sort the array by the second column"
      ]
    },
    {
      "cell_type": "code",
      "execution_count": 6,
      "metadata": {
        "id": "kdPN_yoaxULi"
      },
      "outputs": [
        {
          "name": "stdout",
          "output_type": "stream",
          "text": [
            "Sorted by second row : [[ 2  1]\n",
            " [ 4  5]\n",
            " [ 3 10]]\n",
            "Sorted by second column : [[ 1  2]\n",
            " [10  3]\n",
            " [ 5  4]]\n"
          ]
        }
      ],
      "source": [
        "import numpy as np\n",
        "a = np.array([[1,2],[5,4],[10,3]])\n",
        "sorted_indices = np.argsort(a[1,:])\n",
        "sortedbysecondrow = a[:,sorted_indices]\n",
        "print(f'Sorted by second row : {sortedbysecondrow}')\n",
        "sorted_indices = np.argsort(a[:,1])\n",
        "sortedbysecondcol = a[sorted_indices,:]\n",
        "print(f'Sorted by second column : {sortedbysecondcol}')"
      ]
    },
    {
      "cell_type": "markdown",
      "metadata": {
        "id": "RUiLxEnkxXKF"
      },
      "source": [
        "## Pandas Exercises\n",
        "In this exercise, we are using Automobile Dataset for data analysis. This Dataset has different characteristics of an auto such as body-style, wheel-base, engine-type, price, mileage, horsepower, etc. \\\\\n",
        "https://pynative.com/wp-content/uploads/2019/01/Automobile_data.csv"
      ]
    },
    {
      "cell_type": "markdown",
      "metadata": {
        "id": "Bgvaffg70VqZ"
      },
      "source": [
        "Exercise 1: From the given dataset print the first and last five rows."
      ]
    },
    {
      "cell_type": "code",
      "execution_count": 46,
      "metadata": {
        "colab": {
          "base_uri": "https://localhost:8080/"
        },
        "id": "RT2zrs5y2ZUB",
        "outputId": "9cae83f1-1094-4d46-a97c-332f7987928e"
      },
      "outputs": [
        {
          "name": "stdout",
          "output_type": "stream",
          "text": [
            "   index      company   body-style  wheel-base  length engine-type  \\\n",
            "0      0  alfa-romero  convertible        88.6   168.8        dohc   \n",
            "1      1  alfa-romero  convertible        88.6   168.8        dohc   \n",
            "2      2  alfa-romero    hatchback        94.5   171.2        ohcv   \n",
            "3      3         audi        sedan        99.8   176.6         ohc   \n",
            "4      4         audi        sedan        99.4   176.6         ohc   \n",
            "\n",
            "  num-of-cylinders  horsepower  average-mileage    price  \n",
            "0             four         111               21  13495.0  \n",
            "1             four         111               21  16500.0  \n",
            "2              six         154               19  16500.0  \n",
            "3             four         102               24  13950.0  \n",
            "4             five         115               18  17450.0  \n",
            "    index     company body-style  wheel-base  length engine-type  \\\n",
            "56     81  volkswagen      sedan        97.3   171.7         ohc   \n",
            "57     82  volkswagen      sedan        97.3   171.7         ohc   \n",
            "58     86  volkswagen      sedan        97.3   171.7         ohc   \n",
            "59     87       volvo      sedan       104.3   188.8         ohc   \n",
            "60     88       volvo      wagon       104.3   188.8         ohc   \n",
            "\n",
            "   num-of-cylinders  horsepower  average-mileage    price  \n",
            "56             four          85               27   7975.0  \n",
            "57             four          52               37   7995.0  \n",
            "58             four         100               26   9995.0  \n",
            "59             four         114               23  12940.0  \n",
            "60             four         114               23  13415.0  \n"
          ]
        }
      ],
      "source": [
        "import pandas as pd\n",
        "df = pd.read_csv('Automobile_data.csv')\n",
        "print(df.head())\n",
        "print(df.tail())"
      ]
    },
    {
      "cell_type": "markdown",
      "metadata": {
        "id": "FB-hfiNh2Z42"
      },
      "source": [
        "Exercise 2: Replace all column values which contain ?, n.a, or NaN with suitable values and print the updated dataset.:"
      ]
    },
    {
      "cell_type": "code",
      "execution_count": 59,
      "metadata": {
        "colab": {
          "base_uri": "https://localhost:8080/"
        },
        "id": "n8u7K1cU2x4l",
        "outputId": "79b6dfd0-844e-4312-af46-1f766d92b522"
      },
      "outputs": [
        {
          "name": "stdout",
          "output_type": "stream",
          "text": [
            "    index      company   body-style  wheel-base  length engine-type  \\\n",
            "0       0  alfa-romero  convertible        88.6   168.8        dohc   \n",
            "1       1  alfa-romero  convertible        88.6   168.8        dohc   \n",
            "2       2  alfa-romero    hatchback        94.5   171.2        ohcv   \n",
            "3       3         audi        sedan        99.8   176.6         ohc   \n",
            "4       4         audi        sedan        99.4   176.6         ohc   \n",
            "..    ...          ...          ...         ...     ...         ...   \n",
            "56     81   volkswagen        sedan        97.3   171.7         ohc   \n",
            "57     82   volkswagen        sedan        97.3   171.7         ohc   \n",
            "58     86   volkswagen        sedan        97.3   171.7         ohc   \n",
            "59     87        volvo        sedan       104.3   188.8         ohc   \n",
            "60     88        volvo        wagon       104.3   188.8         ohc   \n",
            "\n",
            "   num-of-cylinders  horsepower  average-mileage    price  \n",
            "0              four         111               21  13495.0  \n",
            "1              four         111               21  16500.0  \n",
            "2               six         154               19  16500.0  \n",
            "3              four         102               24  13950.0  \n",
            "4              five         115               18  17450.0  \n",
            "..              ...         ...              ...      ...  \n",
            "56             four          85               27   7975.0  \n",
            "57             four          52               37   7995.0  \n",
            "58             four         100               26   9995.0  \n",
            "59             four         114               23  12940.0  \n",
            "60             four         114               23  13415.0  \n",
            "\n",
            "[61 rows x 10 columns]\n"
          ]
        },
        {
          "name": "stderr",
          "output_type": "stream",
          "text": [
            "<ipython-input-59-f558a3a5dce2>:8: FutureWarning: errors='ignore' is deprecated and will raise in a future version. Use to_numeric without passing `errors` and catch exceptions explicitly instead\n",
            "  df[col] = pd.to_numeric(df[col],errors= 'ignore')\n"
          ]
        }
      ],
      "source": [
        "import pandas as pd\n",
        "import numpy as np\n",
        "df = pd.read_csv('Automobile_data.csv')\n",
        "for col in df.columns:\n",
        "  df[col] = df[col].replace('?',np.nan)\n",
        "  df[col] = df[col].replace('n.a',np.nan)\n",
        "  df[col] = df[col].replace('NaN',np.nan)\n",
        "  df[col] = pd.to_numeric(df[col],errors= 'ignore')\n",
        "numeric_cols = df.select_dtypes(include=[np.number]).columns\n",
        "df[numeric_cols] = df[numeric_cols].fillna(df[numeric_cols].mean())\n",
        "for col in df.columns:\n",
        "  if col not in numeric_cols:\n",
        "    df[col] = df[col].fillna(df[col].mode()[0])\n",
        "print(df)\n"
      ]
    },
    {
      "cell_type": "markdown",
      "metadata": {
        "id": "67ErI6He2wz6"
      },
      "source": [
        "Exercise 5: Count total cars per company and print them\n",
        "\n",
        "\n"
      ]
    },
    {
      "cell_type": "code",
      "execution_count": 63,
      "metadata": {
        "colab": {
          "base_uri": "https://localhost:8080/"
        },
        "id": "8H6ytVXD26Ae",
        "outputId": "c03d37f2-71dc-4827-b201-99e2fe0db334"
      },
      "outputs": [
        {
          "name": "stdout",
          "output_type": "stream",
          "text": [
            "{'alfa-romero': np.int64(3), 'audi': np.int64(4), 'bmw': np.int64(6), 'chevrolet': np.int64(3), 'dodge': np.int64(2), 'honda': np.int64(3), 'isuzu': np.int64(3), 'jaguar': np.int64(3), 'mazda': np.int64(5), 'mercedes-benz': np.int64(4), 'mitsubishi': np.int64(4), 'nissan': np.int64(5), 'porsche': np.int64(3), 'toyota': np.int64(7), 'volkswagen': np.int64(4), 'volvo': np.int64(2)}\n"
          ]
        }
      ],
      "source": [
        "import pandas as pd\n",
        "\n",
        "df = pd.read_csv('Automobile_data.csv')\n",
        "\n",
        "company_counts = {}\n",
        "for i in df['company']:\n",
        "    company_counts[i] = df['company'].value_counts()[i]\n",
        "\n",
        "print(company_counts)\n"
      ]
    },
    {
      "cell_type": "markdown",
      "metadata": {
        "id": "OcyPTwrWxdXt"
      },
      "source": [
        "## Matplotlib Exercises"
      ]
    },
    {
      "cell_type": "markdown",
      "metadata": {
        "id": "f0JDeA8Lxu-8"
      },
      "source": [
        "Use the following CSV file for this exercise. Read this file using Pandas or NumPy or using in-built matplotlib function. \\\\\n",
        "https://pynative.com/wp-content/uploads/2019/01/company_sales_data.csv"
      ]
    },
    {
      "cell_type": "markdown",
      "metadata": {
        "id": "zYDZqjEzyoFN"
      },
      "source": [
        "Exercise 1: Read Total profit of all months and show it using a line plot \\\\\n",
        "Total profit data provided for each month. Generated line plot must include the following properties: –\n",
        "\n",
        "X label name = Month Number \\\\\n",
        "Y label name = Total profit \\\\\n",
        "\n",
        "\n"
      ]
    },
    {
      "cell_type": "code",
      "execution_count": 65,
      "metadata": {
        "colab": {
          "base_uri": "https://localhost:8080/",
          "height": 430
        },
        "id": "wp_s9Dh50MQX",
        "outputId": "5e2a870e-8e30-49d1-844c-7f5e8c856204"
      },
      "outputs": [
        {
          "data": {
            "image/png": "[encoded data removed]",
            "text/plain": [
              "<Figure size 640x480 with 1 Axes>"
            ]
          },
          "metadata": {},
          "output_type": "display_data"
        }
      ],
      "source": [
        "import pandas as pd\n",
        "import matplotlib.pyplot as plt\n",
        "df = pd.read_csv('company_sales_data.csv')\n",
        "\n",
        "X = df['month_number']\n",
        "Y = df['total_profit']\n",
        "plt.plot(X,Y,marker = 'o')\n",
        "plt.show()"
      ]
    },
    {
      "cell_type": "markdown",
      "metadata": {
        "id": "muEpI78E0LjF"
      },
      "source": [
        "Exercise : Read face cream and facewash product sales data and show it using the bar chart \\\\\n",
        "The bar chart should display the number of units sold per month for each product. \\\\\n",
        "Add a separate bar for each product in the same chart."
      ]
    },
    {
      "cell_type": "code",
      "execution_count": 75,
      "metadata": {
        "colab": {
          "base_uri": "https://localhost:8080/",
          "height": 430
        },
        "id": "JmR3PAE71gIi",
        "outputId": "bb350d9e-c730-43f7-bbe5-0a4166dfc917"
      },
      "outputs": [
        {
          "data": {
            "image/png": "[encoded data removed]",
            "text/plain": [
              "<Figure size 640x480 with 1 Axes>"
            ]
          },
          "metadata": {},
          "output_type": "display_data"
        }
      ],
      "source": [
        "import pandas as pd\n",
        "import matplotlib.pyplot as plt\n",
        "df = pd.read_csv('company_sales_data.csv')\n",
        "x = df['facewash']\n",
        "y = df['facecream']\n",
        "z = df['month_number']\n",
        "bar_width = 0.35\n",
        "r1 = range(len(z))\n",
        "r2 = [x + bar_width for x in r1]\n",
        "plt.bar(r1,x,width = bar_width)\n",
        "plt.bar(r2,y,width = bar_width)\n",
        "plt.show()"
      ]
    }
  ],
  "metadata": {
    "colab": {
      "provenance": []
    },
    "kernelspec": {
      "display_name": "penv",
      "language": "python",
      "name": "python3"
    },
    "language_info": {
      "codemirror_mode": {
        "name": "ipython",
        "version": 3
      },
      "file_extension": ".py",
      "mimetype": "text/x-python",
      "name": "python",
      "nbconvert_exporter": "python",
      "pygments_lexer": "ipython3",
      "version": "3.11.12"
    }
  },
  "nbformat": 4,
  "nbformat_minor": 0
}
