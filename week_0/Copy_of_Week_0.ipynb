{
  "nbformat": 4,
  "nbformat_minor": 0,
  "metadata": {
    "colab": {
      "provenance": []
    },
    "kernelspec": {
      "name": "python3",
      "display_name": "Python 3"
    },
    "language_info": {
      "name": "python"
    }
  },
  "cells": [
    {
      "cell_type": "markdown",
      "source": [
        "Python --\n",
        "\n",
        "Ques 1\n",
        "\n"
      ],
      "metadata": {
        "id": "H9eTlwXZnnij"
      }
    },
    {
      "cell_type": "code",
      "source": [
        "list1 = [10, 20, 25, 30, 35]\n",
        "list2 = [40, 45, 60, 75, 90]\n",
        "new_list=list1+list2\n",
        "print(new_list)"
      ],
      "metadata": {
        "colab": {
          "base_uri": "https://localhost:8080/"
        },
        "id": "gp1Wi-L6ntIV",
        "outputId": "b35ead8d-4b25-4c7e-d8bc-4c240a6a2c5e"
      },
      "execution_count": null,
      "outputs": [
        {
          "output_type": "stream",
          "name": "stdout",
          "text": [
            "[10, 20, 25, 30, 35, 40, 45, 60, 75, 90]\n"
          ]
        }
      ]
    },
    {
      "cell_type": "markdown",
      "source": [
        "Ques 2"
      ],
      "metadata": {
        "id": "o2aiOeJon_JC"
      }
    },
    {
      "cell_type": "code",
      "source": [
        "numbers = list(range(1,11))\n",
        "\n",
        "\n",
        "for i in numbers:\n",
        "  print(\"Table of \",i)\n",
        "  for j in numbers:\n",
        "    print(i*j)\n",
        "  print()"
      ],
      "metadata": {
        "colab": {
          "base_uri": "https://localhost:8080/"
        },
        "collapsed": true,
        "id": "zw7aWYD9oAxj",
        "outputId": "56bf209b-132c-4acd-8b9e-ae5563c65a41"
      },
      "execution_count": null,
      "outputs": [
        {
          "output_type": "stream",
          "name": "stdout",
          "text": [
            "Table of  1\n",
            "1\n",
            "2\n",
            "3\n",
            "4\n",
            "5\n",
            "6\n",
            "7\n",
            "8\n",
            "9\n",
            "10\n",
            "\n",
            "Table of  2\n",
            "2\n",
            "4\n",
            "6\n",
            "8\n",
            "10\n",
            "12\n",
            "14\n",
            "16\n",
            "18\n",
            "20\n",
            "\n",
            "Table of  3\n",
            "3\n",
            "6\n",
            "9\n",
            "12\n",
            "15\n",
            "18\n",
            "21\n",
            "24\n",
            "27\n",
            "30\n",
            "\n",
            "Table of  4\n",
            "4\n",
            "8\n",
            "12\n",
            "16\n",
            "20\n",
            "24\n",
            "28\n",
            "32\n",
            "36\n",
            "40\n",
            "\n",
            "Table of  5\n",
            "5\n",
            "10\n",
            "15\n",
            "20\n",
            "25\n",
            "30\n",
            "35\n",
            "40\n",
            "45\n",
            "50\n",
            "\n",
            "Table of  6\n",
            "6\n",
            "12\n",
            "18\n",
            "24\n",
            "30\n",
            "36\n",
            "42\n",
            "48\n",
            "54\n",
            "60\n",
            "\n",
            "Table of  7\n",
            "7\n",
            "14\n",
            "21\n",
            "28\n",
            "35\n",
            "42\n",
            "49\n",
            "56\n",
            "63\n",
            "70\n",
            "\n",
            "Table of  8\n",
            "8\n",
            "16\n",
            "24\n",
            "32\n",
            "40\n",
            "48\n",
            "56\n",
            "64\n",
            "72\n",
            "80\n",
            "\n",
            "Table of  9\n",
            "9\n",
            "18\n",
            "27\n",
            "36\n",
            "45\n",
            "54\n",
            "63\n",
            "72\n",
            "81\n",
            "90\n",
            "\n",
            "Table of  10\n",
            "10\n",
            "20\n",
            "30\n",
            "40\n",
            "50\n",
            "60\n",
            "70\n",
            "80\n",
            "90\n",
            "100\n",
            "\n"
          ]
        }
      ]
    },
    {
      "cell_type": "markdown",
      "source": [
        "ques 3"
      ],
      "metadata": {
        "id": "E5crFa8fonSS"
      }
    },
    {
      "cell_type": "code",
      "source": [
        "for i in list(range(5,0,-1)):\n",
        "  print(\"0 \"*(i-1),end='')\n",
        "  print(\"0\")"
      ],
      "metadata": {
        "colab": {
          "base_uri": "https://localhost:8080/"
        },
        "id": "m02n87mVooHy",
        "outputId": "cae1141f-d438-49d4-e519-3fbc647ad5a5"
      },
      "execution_count": null,
      "outputs": [
        {
          "output_type": "stream",
          "name": "stdout",
          "text": [
            "0 0 0 0 0\n",
            "0 0 0 0\n",
            "0 0 0\n",
            "0 0\n",
            "0\n"
          ]
        }
      ]
    },
    {
      "cell_type": "markdown",
      "source": [
        "ques 4\n"
      ],
      "metadata": {
        "id": "jwwYMynSpVRN"
      }
    },
    {
      "cell_type": "code",
      "source": [
        "vegetables = [\"eggplant\", \"broccoli\", \"carrot\",\"cauliflower\", \"zucchini\"]\n",
        "vegetables.append(\"tomato\")\n",
        "vegetables.sort()\n",
        "print(vegetables)"
      ],
      "metadata": {
        "colab": {
          "base_uri": "https://localhost:8080/"
        },
        "id": "N-aFfNG5pWHJ",
        "outputId": "2bd93ae5-a993-4521-ea14-00b5b2d0f3cb"
      },
      "execution_count": null,
      "outputs": [
        {
          "output_type": "stream",
          "name": "stdout",
          "text": [
            "['broccoli', 'carrot', 'cauliflower', 'eggplant', 'tomato', 'zucchini']\n"
          ]
        }
      ]
    },
    {
      "cell_type": "markdown",
      "source": [
        "ques5"
      ],
      "metadata": {
        "id": "yzzK7ikmp7Kc"
      }
    },
    {
      "cell_type": "code",
      "source": [
        "def is_odd(x):\n",
        "  return bool(x&1)\n",
        "\n",
        "number=int(input(\"Enter the number : \"))\n",
        "print(is_odd(number))"
      ],
      "metadata": {
        "colab": {
          "base_uri": "https://localhost:8080/"
        },
        "id": "yT_v2hvlp8Pq",
        "outputId": "b77e8825-c38c-40d0-9f39-8d2d4603cc90"
      },
      "execution_count": null,
      "outputs": [
        {
          "output_type": "stream",
          "name": "stdout",
          "text": [
            "Enter the number : 15\n",
            "True\n"
          ]
        }
      ]
    },
    {
      "cell_type": "markdown",
      "source": [
        "ques 6"
      ],
      "metadata": {
        "id": "sbO-FZNMq4fK"
      }
    },
    {
      "cell_type": "code",
      "source": [
        "import statistics\n",
        "seq=[]\n",
        "n=int(input(\"Define the number of elements to be entered : \"))\n",
        "for i in range(n):\n",
        "  number=int(input(\"Enter a number : \"))\n",
        "  seq.append(number)15\n",
        "  15\n",
        "print(statistics.mode(seq))\n",
        "print(seq)"
      ],
      "metadata": {
        "colab": {
          "base_uri": "https://localhost:8080/"
        },
        "collapsed": true,
        "id": "uzWekYEEq5xB",
        "outputId": "2dfbd2bc-106b-42d5-b769-3d8bcab4d16f"
      },
      "execution_count": null,
      "outputs": [
        {
          "output_type": "stream",
          "name": "stdout",
          "text": [
            "Define the number of elements to be entered : 9\n",
            "Enter a number : 15\n",
            "Enter a number : 20\n",
            "Enter a number : 15\n",
            "Enter a number : 14\n",
            "Enter a number : 2\n",
            "Enter a number : 5\n",
            "Enter a number : 6\n",
            "Enter a number : 6\n",
            "Enter a number : 8\n",
            "15\n",
            "[15, 20, 15, 14, 2, 5, 6, 6, 8]\n"
          ]
        }
      ]
    },
    {
      "cell_type": "markdown",
      "source": [
        "Numpy\n",
        "\n",
        "Ques 1"
      ],
      "metadata": {
        "id": "XDJg59rxtLAQ"
      }
    },
    {
      "cell_type": "code",
      "source": [
        "import numpy as np\n",
        "import sys\n",
        "arr=np.array([[1,5],[2,6],[9,8],[4,7]],dtype=np.uint16)\n",
        "\n",
        "print(\"The shape of array is : \", arr.shape)\n",
        "print(\"The dimensionality of array is : \", arr.ndim)\n",
        "print(\"The length of each element of array is : \", arr.itemsize)"
      ],
      "metadata": {
        "colab": {
          "base_uri": "https://localhost:8080/"
        },
        "id": "ePNGbHiAtPdY",
        "outputId": "95428c3e-495a-47ae-f78e-82854c325126"
      },
      "execution_count": null,
      "outputs": [
        {
          "output_type": "stream",
          "name": "stdout",
          "text": [
            "The shape of array is :  (4, 2)\n",
            "The dimensionality of array is :  2\n",
            "The length of each element of array is :  2\n"
          ]
        }
      ]
    },
    {
      "cell_type": "markdown",
      "source": [
        "ques 2"
      ],
      "metadata": {
        "id": "bcNI_xYexZMQ"
      }
    },
    {
      "cell_type": "code",
      "source": [
        "import numpy as np\n",
        "\n",
        "sampleArray = np.array ( [ [ 11 ,22, 33 ], [ 44, 55, 66 ], [ 77, 88, 99 ] ] )\n",
        "print(sampleArray[:,[2]])\n",
        "print(\"or\")\n",
        "print(sampleArray[:,2])"
      ],
      "metadata": {
        "colab": {
          "base_uri": "https://localhost:8080/"
        },
        "id": "VFLpWw75xaIv",
        "outputId": "4e2f9e79-b505-4bc5-f383-7349b2d8aba2"
      },
      "execution_count": null,
      "outputs": [
        {
          "output_type": "stream",
          "name": "stdout",
          "text": [
            "[[33]\n",
            " [66]\n",
            " [99]]\n",
            "or\n",
            "[33 66 99]\n"
          ]
        }
      ]
    },
    {
      "cell_type": "markdown",
      "source": [
        "ques 3"
      ],
      "metadata": {
        "id": "k_yrMc3XzyLO"
      }
    },
    {
      "cell_type": "code",
      "source": [
        "import numpy as np\n",
        "\n",
        "sampleArray = np.array ( [ [ 11 ,22, 33 ], [ 44, 55, 66 ], [ 77, 88, 99 ] ] )\n",
        "\n",
        "col_order= np.argsort(sampleArray[1])\n",
        "row_sorted=sampleArray[:,col_order]\n",
        "print(\"Sorting array on basis of 2nd row\")\n",
        "print(row_sorted)\n",
        "\n",
        "row_order=np.argsort(sampleArray[:,1])\n",
        "col_sorted=sampleArray[row_order,:]\n",
        "print(\"Sorting array on basis of 2nd column\")\n",
        "print(col_sorted)"
      ],
      "metadata": {
        "colab": {
          "base_uri": "https://localhost:8080/"
        },
        "id": "Hj1-gawgzzAh",
        "outputId": "20dde99c-7355-4aed-fbbe-87765c32999a"
      },
      "execution_count": null,
      "outputs": [
        {
          "output_type": "stream",
          "name": "stdout",
          "text": [
            "Sorting array on basis of 2nd row\n",
            "[[11 22 33]\n",
            " [44 55 66]\n",
            " [77 88 99]]\n",
            "Sorting array on basis of 2nd column\n",
            "[[11 22 33]\n",
            " [44 55 66]\n",
            " [77 88 99]]\n"
          ]
        }
      ]
    },
    {
      "cell_type": "markdown",
      "source": [
        "pandas\n",
        "\n",
        "ques1"
      ],
      "metadata": {
        "id": "Erk_98C5swpw"
      }
    },
    {
      "cell_type": "code",
      "source": [
        "import pandas as pd\n",
        "data=pd.read_csv(\"//content//Automobile_data.csv\")\n",
        "print(\"Printing first five rows : \")\n",
        "print(data.head())\n",
        "print(\"Printing last five rows : \")\n",
        "print(data.tail())"
      ],
      "metadata": {
        "colab": {
          "base_uri": "https://localhost:8080/"
        },
        "collapsed": true,
        "id": "xWfBefjrsz2y",
        "outputId": "990256e0-59ad-43b5-bbab-828dc0edd22f"
      },
      "execution_count": null,
      "outputs": [
        {
          "output_type": "stream",
          "name": "stdout",
          "text": [
            "Printing first five rows : \n",
            "   index      company   body-style  wheel-base  length engine-type  \\\n",
            "0      0  alfa-romero  convertible        88.6   168.8        dohc   \n",
            "1      1  alfa-romero  convertible        88.6   168.8        dohc   \n",
            "2      2  alfa-romero    hatchback        94.5   171.2        ohcv   \n",
            "3      3         audi        sedan        99.8   176.6         ohc   \n",
            "4      4         audi        sedan        99.4   176.6         ohc   \n",
            "\n",
            "  num-of-cylinders  horsepower  average-mileage    price  \n",
            "0             four         111               21  13495.0  \n",
            "1             four         111               21  16500.0  \n",
            "2              six         154               19  16500.0  \n",
            "3             four         102               24  13950.0  \n",
            "4             five         115               18  17450.0  \n",
            "Printing last five rows : \n",
            "    index     company body-style  wheel-base  length engine-type  \\\n",
            "56     81  volkswagen      sedan        97.3   171.7         ohc   \n",
            "57     82  volkswagen      sedan        97.3   171.7         ohc   \n",
            "58     86  volkswagen      sedan        97.3   171.7         ohc   \n",
            "59     87       volvo      sedan       104.3   188.8         ohc   \n",
            "60     88       volvo      wagon       104.3   188.8         ohc   \n",
            "\n",
            "   num-of-cylinders  horsepower  average-mileage    price  \n",
            "56             four          85               27   7975.0  \n",
            "57             four          52               37   7995.0  \n",
            "58             four         100               26   9995.0  \n",
            "59             four         114               23  12940.0  \n",
            "60             four         114               23  13415.0  \n"
          ]
        }
      ]
    },
    {
      "cell_type": "markdown",
      "source": [
        "ques 2\n"
      ],
      "metadata": {
        "id": "WbOYpGtMvAUQ"
      }
    },
    {
      "cell_type": "code",
      "source": [
        "import pandas as pd\n",
        "data=pd.read_csv(\"//content//Automobile_data.csv\")\n",
        "data=data.fillna(value=(data[\"price\"].mean()))\n"
      ],
      "metadata": {
        "collapsed": true,
        "id": "m7KqfYuKvBfG"
      },
      "execution_count": null,
      "outputs": []
    },
    {
      "cell_type": "markdown",
      "source": [
        "ques 3\n"
      ],
      "metadata": {
        "id": "KVO56jUBv4d4"
      }
    },
    {
      "cell_type": "code",
      "source": [
        "import pandas as pd\n",
        "data=pd.read_csv(\"//content//Automobile_data.csv\")\n",
        "\n",
        "print(data[\"company\"].value_counts())"
      ],
      "metadata": {
        "colab": {
          "base_uri": "https://localhost:8080/"
        },
        "collapsed": true,
        "id": "YV4n6f16v5sO",
        "outputId": "b8d64006-dbae-4470-9241-5a4eb929e23c"
      },
      "execution_count": null,
      "outputs": [
        {
          "output_type": "stream",
          "name": "stdout",
          "text": [
            "company\n",
            "toyota           7\n",
            "bmw              6\n",
            "mazda            5\n",
            "nissan           5\n",
            "mercedes-benz    4\n",
            "audi             4\n",
            "volkswagen       4\n",
            "mitsubishi       4\n",
            "chevrolet        3\n",
            "jaguar           3\n",
            "isuzu            3\n",
            "honda            3\n",
            "porsche          3\n",
            "alfa-romero      3\n",
            "dodge            2\n",
            "volvo            2\n",
            "Name: count, dtype: int64\n"
          ]
        }
      ]
    },
    {
      "cell_type": "markdown",
      "source": [
        "matplotlib\n",
        "\n",
        "ques 1"
      ],
      "metadata": {
        "id": "CiuqEl_ax8eG"
      }
    },
    {
      "cell_type": "code",
      "source": [
        "import pandas as pd\n",
        "import matplotlib.pyplot as plt\n",
        "import numpy as np\n",
        "\n",
        "data=pd.read_csv(\"//content//company_sales_data.csv\")\n",
        "\n",
        "xpoints=np.array(data[\"month_number\"])\n",
        "ypoints=np.array(data[\"total_profit\"])\n",
        "\n",
        "plt.plot(xpoints,ypoints)\n",
        "plt.xlabel(\"Month Number\")\n",
        "plt.ylabel(\"Total Profit\")\n",
        "plt.xticks(np.array([i for i in range(1,13)]))\n",
        "plt.show()"
      ],
      "metadata": {
        "colab": {
          "base_uri": "https://localhost:8080/",
          "height": 449
        },
        "collapsed": true,
        "id": "TJrwzolKx_Um",
        "outputId": "8cc0a76a-bdef-45cf-a897-7edbcdcdfe34"
      },
      "execution_count": null,
      "outputs": [
        {
          "output_type": "display_data",
          "data": {
            "text/plain": [
              "<Figure size 640x480 with 1 Axes>"
            ],
            "image/png": "[encoded data removed]"
          },
          "metadata": {}
        }
      ]
    },
    {
      "cell_type": "markdown",
      "source": [
        "ques 2"
      ],
      "metadata": {
        "id": "Anh35M-V1BQf"
      }
    },
    {
      "cell_type": "code",
      "source": [
        "import pandas as pd\n",
        "import matplotlib.pyplot as plt\n",
        "import numpy as np\n",
        "\n",
        "data=pd.read_csv(\"//content//company_sales_data.csv\")\n",
        "\n",
        "xpoints=np.array(data[\"month_number\"])\n",
        "y1=np.array(data[\"facewash\"])\n",
        "y2=np.array(data[\"facecream\"])\n",
        "ypoints=np.array([y1,y2])\n",
        "\n",
        "plt.bar(xpoints,y1,width=0.5/2,label=\"facewash\")\n",
        "plt.bar(xpoints+0.25,y2,width=0.5/2,label=\"facecream\")\n",
        "plt.legend()\n",
        "plt.xticks(np.array([i for i in range(1,13)])+0.125,np.array([i for i in range(1,13)]))\n",
        "plt.show()\n"
      ],
      "metadata": {
        "colab": {
          "base_uri": "https://localhost:8080/",
          "height": 430
        },
        "id": "cdfZ0YA61CrP",
        "outputId": "7d93b91b-426a-4308-9210-8e2ea0cbd836"
      },
      "execution_count": null,
      "outputs": [
        {
          "output_type": "display_data",
          "data": {
            "text/plain": [
              "<Figure size 640x480 with 1 Axes>"
            ],
            "image/png": "[encoded data removed]"
          },
          "metadata": {}
        }
      ]
    }
  ]
}