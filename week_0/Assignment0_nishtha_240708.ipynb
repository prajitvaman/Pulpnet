{
  "nbformat": 4,
  "nbformat_minor": 0,
  "metadata": {
    "colab": {
      "provenance": []
    },
    "kernelspec": {
      "name": "python3",
      "display_name": "Python 3"
    },
    "language_info": {
      "name": "python"
    }
  },
  "cells": [
    {
      "cell_type": "markdown",
      "source": [
        "# Assignment 0\n",
        "**Instrunctions for the assignment** \\\\\n",
        "\n",
        "*   Open Google Colab: Begin by launching Google Colab and creating a new Python notebook.\n",
        "*   Read Comments Carefully: Pay close attention to the comments provided within the codeblocks.\n",
        "\n",
        "\n",
        "*   Code Block Completion: Fill in the codeblocks as per the instructions given in the comments.\n",
        "*   Avoid Copying: Ensure that you understand the concepts and refrain from directly copying code from external sources.\n",
        "\n",
        "\n",
        "*   Execute Codeblocks: Verify that each codeblock runs without errors by executing them.\n",
        "*   Save and Submit: Once you've completed the assignment, save your notebook and follow the submission guidelines provided by your instructor.\n",
        "\n",
        "\n",
        "\n",
        "\n",
        "\n",
        "\n",
        "\n",
        "\n",
        "\n",
        "\n",
        "**Notes:**\n",
        "\n",
        "Encouragement: Take your time to understand the concepts behind each codeblock. This assignment aims to strengthen your Python programming skills. \\\\\n",
        "Good Luck! : If you have any questions or require clarification on any aspect of the instructions, feel free to ask. \\\\\n",
        " \\\\\n",
        "\n",
        "Best wishes for your assignment! These instructions are crafted to provide clarity and guidance as you work through the tasks in Google Colab.\n",
        "\n",
        "\n",
        "\n",
        "\n",
        "\n",
        "\n",
        "\n"
      ],
      "metadata": {
        "id": "U2p472EZsFQh"
      }
    },
    {
      "cell_type": "markdown",
      "source": [
        "## Getting Started\n",
        "Solving these exercises will help make you a better programmer. Solve them in order, because each solution builds scaffolding, working code, and knowledge you can use on future problems. Read the directions carefully, and have fun!\n",
        "\n",
        "\n",
        "\n",
        "*   To save your work to your Google Drive, go to File then \"Save Copy in Drive\".\n",
        "*   Your own work will now appear in your Google Drive account!\n",
        "*   Work on this copy as directed"
      ],
      "metadata": {
        "id": "jGDFomGq3i87"
      }
    },
    {
      "cell_type": "markdown",
      "source": [
        "## What to do when you don't know what to do next\n",
        "- When the exercise asks you to reverse an list, the way forward is to search for \"How to reverse a list in Python\" in your favorite search engine.\n",
        "- When the exercise asks you to check if a number is even, the way forward is to search for \"how to check if a number is even in Python\".\n",
        "- When the exercise has you calculate the area of a circle, the way forward is to search for \"how to calculate the area of a circle in Python\" or \"How to get pi in Python\".\n",
        "\n",
        "😀😀"
      ],
      "metadata": {
        "id": "jZ1hWiMO4TTN"
      }
    },
    {
      "cell_type": "markdown",
      "source": [
        "## Basic Python Exercises"
      ],
      "metadata": {
        "id": "LKjbv4-Mmp3_"
      }
    },
    {
      "cell_type": "markdown",
      "source": [
        "1. Create a new list from two list \\\\\n",
        "list1 = [10, 20, 25, 30, 35] \\\\\n",
        "list2 = [40, 45, 60, 75, 90]"
      ],
      "metadata": {
        "id": "POUIXeAkoAJy"
      }
    },
    {
      "cell_type": "code",
      "source": [
        "list1 = [10,20,25,30,35]\n",
        "list2 = [40,45,60,75,90]\n",
        "list3 = list1 + list2\n",
        "print(list3)"
      ],
      "metadata": {
        "id": "083WsOfvmz3k",
        "colab": {
          "base_uri": "https://localhost:8080/"
        },
        "outputId": "f3bb48b4-7031-453a-dc5a-6f47b3aca030"
      },
      "execution_count": null,
      "outputs": [
        {
          "output_type": "stream",
          "name": "stdout",
          "text": [
            "[10, 20, 25, 30, 35, 40, 45, 60, 75, 90]\n"
          ]
        }
      ]
    },
    {
      "cell_type": "markdown",
      "source": [
        "2. Print multiplication table from 1 to 10"
      ],
      "metadata": {
        "id": "mBuOTb3vo7SY"
      }
    },
    {
      "cell_type": "code",
      "source": [
        "for x in range(1, 11):\n",
        "    print(f\"Multiplication table for {x}\")\n",
        "    for y in range(1, 11):\n",
        "        print(f\"{x} x {y} = {x * y}\")\n",
        "    print()"
      ],
      "metadata": {
        "id": "ALdwhW6uqRTB",
        "colab": {
          "base_uri": "https://localhost:8080/"
        },
        "outputId": "e169fc0f-9077-457c-8069-439c4b81da23"
      },
      "execution_count": null,
      "outputs": [
        {
          "output_type": "stream",
          "name": "stdout",
          "text": [
            "Multiplication table for 1\n",
            "1 x 1 = 1\n",
            "1 x 2 = 2\n",
            "1 x 3 = 3\n",
            "1 x 4 = 4\n",
            "1 x 5 = 5\n",
            "1 x 6 = 6\n",
            "1 x 7 = 7\n",
            "1 x 8 = 8\n",
            "1 x 9 = 9\n",
            "1 x 10 = 10\n",
            "\n",
            "Multiplication table for 2\n",
            "2 x 1 = 2\n",
            "2 x 2 = 4\n",
            "2 x 3 = 6\n",
            "2 x 4 = 8\n",
            "2 x 5 = 10\n",
            "2 x 6 = 12\n",
            "2 x 7 = 14\n",
            "2 x 8 = 16\n",
            "2 x 9 = 18\n",
            "2 x 10 = 20\n",
            "\n",
            "Multiplication table for 3\n",
            "3 x 1 = 3\n",
            "3 x 2 = 6\n",
            "3 x 3 = 9\n",
            "3 x 4 = 12\n",
            "3 x 5 = 15\n",
            "3 x 6 = 18\n",
            "3 x 7 = 21\n",
            "3 x 8 = 24\n",
            "3 x 9 = 27\n",
            "3 x 10 = 30\n",
            "\n",
            "Multiplication table for 4\n",
            "4 x 1 = 4\n",
            "4 x 2 = 8\n",
            "4 x 3 = 12\n",
            "4 x 4 = 16\n",
            "4 x 5 = 20\n",
            "4 x 6 = 24\n",
            "4 x 7 = 28\n",
            "4 x 8 = 32\n",
            "4 x 9 = 36\n",
            "4 x 10 = 40\n",
            "\n",
            "Multiplication table for 5\n",
            "5 x 1 = 5\n",
            "5 x 2 = 10\n",
            "5 x 3 = 15\n",
            "5 x 4 = 20\n",
            "5 x 5 = 25\n",
            "5 x 6 = 30\n",
            "5 x 7 = 35\n",
            "5 x 8 = 40\n",
            "5 x 9 = 45\n",
            "5 x 10 = 50\n",
            "\n",
            "Multiplication table for 6\n",
            "6 x 1 = 6\n",
            "6 x 2 = 12\n",
            "6 x 3 = 18\n",
            "6 x 4 = 24\n",
            "6 x 5 = 30\n",
            "6 x 6 = 36\n",
            "6 x 7 = 42\n",
            "6 x 8 = 48\n",
            "6 x 9 = 54\n",
            "6 x 10 = 60\n",
            "\n",
            "Multiplication table for 7\n",
            "7 x 1 = 7\n",
            "7 x 2 = 14\n",
            "7 x 3 = 21\n",
            "7 x 4 = 28\n",
            "7 x 5 = 35\n",
            "7 x 6 = 42\n",
            "7 x 7 = 49\n",
            "7 x 8 = 56\n",
            "7 x 9 = 63\n",
            "7 x 10 = 70\n",
            "\n",
            "Multiplication table for 8\n",
            "8 x 1 = 8\n",
            "8 x 2 = 16\n",
            "8 x 3 = 24\n",
            "8 x 4 = 32\n",
            "8 x 5 = 40\n",
            "8 x 6 = 48\n",
            "8 x 7 = 56\n",
            "8 x 8 = 64\n",
            "8 x 9 = 72\n",
            "8 x 10 = 80\n",
            "\n",
            "Multiplication table for 9\n",
            "9 x 1 = 9\n",
            "9 x 2 = 18\n",
            "9 x 3 = 27\n",
            "9 x 4 = 36\n",
            "9 x 5 = 45\n",
            "9 x 6 = 54\n",
            "9 x 7 = 63\n",
            "9 x 8 = 72\n",
            "9 x 9 = 81\n",
            "9 x 10 = 90\n",
            "\n",
            "Multiplication table for 10\n",
            "10 x 1 = 10\n",
            "10 x 2 = 20\n",
            "10 x 3 = 30\n",
            "10 x 4 = 40\n",
            "10 x 5 = 50\n",
            "10 x 6 = 60\n",
            "10 x 7 = 70\n",
            "10 x 8 = 80\n",
            "10 x 9 = 90\n",
            "10 x 10 = 100\n",
            "\n"
          ]
        }
      ]
    },
    {
      "cell_type": "markdown",
      "source": [
        "3. Print a downward Half-Pyramid Pattern\n",
        "\n",
        "0 0 0 0 0   \n",
        "0 0 0 0 <br>\n",
        "0 0 0 <br>\n",
        "0 0 <br>\n",
        "0"
      ],
      "metadata": {
        "id": "rXhutUXXqR5x"
      }
    },
    {
      "cell_type": "code",
      "source": [
        "rows = int(input(\"Enter number of rows: \"))\n",
        "for i in range(rows, 0, -1):\n",
        "    print(\"0\" * i)"
      ],
      "metadata": {
        "id": "U9j7N1nrtw--",
        "colab": {
          "base_uri": "https://localhost:8080/"
        },
        "outputId": "4c4dbf90-480d-4e4c-ffaf-970ff57a613a"
      },
      "execution_count": null,
      "outputs": [
        {
          "output_type": "stream",
          "name": "stdout",
          "text": [
            "Enter number of rows: 5\n",
            "00000\n",
            "0000\n",
            "000\n",
            "00\n",
            "0\n"
          ]
        }
      ]
    },
    {
      "cell_type": "markdown",
      "source": [
        " 4. Given the following assignment of the vegetables list, add \"tomato\" to the end of the list and sort them in alphabetical order.\\\n",
        "vegetables = [\"eggplant\", \"broccoli\", \"carrot\",\"cauliflower\", \"zucchini\"]"
      ],
      "metadata": {
        "id": "Re-QzSX4ugH-"
      }
    },
    {
      "cell_type": "code",
      "source": [
        "vegetables = [\"eggplant\", \"broccoli\", \"carrot\",\"cauliflower\", \"zucchini\"]\n",
        "vegetables.append(\"tomato\")\n",
        "vegetables.sort()\n",
        "print(vegetables)"
      ],
      "metadata": {
        "id": "hnA-2EIDuxEH",
        "colab": {
          "base_uri": "https://localhost:8080/"
        },
        "outputId": "89160d94-9691-43b1-f516-c44f3a167b35"
      },
      "execution_count": null,
      "outputs": [
        {
          "output_type": "stream",
          "name": "stdout",
          "text": [
            "['broccoli', 'carrot', 'cauliflower', 'eggplant', 'tomato', 'zucchini']\n"
          ]
        }
      ]
    },
    {
      "cell_type": "markdown",
      "source": [
        "\n",
        "5. Write a function definition named is_odd that takes in a number and returns True or False if that number is odd."
      ],
      "metadata": {
        "id": "ARyaOlp8uxix"
      }
    },
    {
      "cell_type": "code",
      "source": [
        "def is_odd(num):\n",
        "  if num % 2 != 0:\n",
        "    return True\n",
        "  else:\n",
        "    return False\n"
      ],
      "metadata": {
        "id": "OztCSuVjvACz"
      },
      "execution_count": null,
      "outputs": []
    },
    {
      "cell_type": "markdown",
      "source": [
        "\n",
        "\n",
        "6. Write a function definition named mode that takes in sequence of numbers and returns the most commonly occuring value"
      ],
      "metadata": {
        "id": "GIAo6YfLu_AJ"
      }
    },
    {
      "cell_type": "code",
      "source": [
        "def mode(sequence):\n",
        "    counts = {}\n",
        "    for num in sequence:\n",
        "      if num in counts:\n",
        "        counts[num] +=1\n",
        "      else:\n",
        "        counts[num]=1\n",
        "\n",
        "    max_count = 0\n",
        "    mode_value = None\n",
        "    for num, count in counts.items():\n",
        "        if count > max_count:\n",
        "            max_count = count\n",
        "            mode_value = num\n",
        "\n",
        "    return mode_value\n",
        "\n"
      ],
      "metadata": {
        "id": "WEikC1aTvXoS"
      },
      "execution_count": null,
      "outputs": []
    },
    {
      "cell_type": "markdown",
      "source": [
        "## Numpy Exercises"
      ],
      "metadata": {
        "id": "AKuHwB0lvZn-"
      }
    },
    {
      "cell_type": "markdown",
      "source": [
        "Exercise 1: Create a 4X2 integer array and Prints its attributes \\\\\n",
        "**Note:** The element must be a type of unsigned int16. \\\\\n",
        "And print the following Attributes: –\n",
        "\n",
        "\n",
        "\n",
        "1.   The shape of an array.\n",
        "2.   Array dimensions.\n",
        "3.   The Length of each element of the array in bytes.\n",
        "\n",
        "\n",
        "\n",
        "\n",
        "\n"
      ],
      "metadata": {
        "id": "8f2ww678vf5S"
      }
    },
    {
      "cell_type": "code",
      "source": [
        "import numpy as np\n",
        "arr = np.random.randint(0,100,size=(4,2),dtype=np.uint16)\n",
        "print(\"Shape of array:\",arr.shape)\n",
        "print(\"Array dimensions:\",arr.ndim)\n",
        "print(\"Length of each element of the array in bytes:\",arr.itemsize)"
      ],
      "metadata": {
        "id": "2YMq_rbcwTeb",
        "colab": {
          "base_uri": "https://localhost:8080/"
        },
        "outputId": "47132dd8-e35f-4a72-c950-1e34ff38e589"
      },
      "execution_count": null,
      "outputs": [
        {
          "output_type": "stream",
          "name": "stdout",
          "text": [
            "Shape of array: (4, 2)\n",
            "Array dimensions: 2\n",
            "Length of each element of the array in bytes: 2\n"
          ]
        }
      ]
    },
    {
      "cell_type": "markdown",
      "source": [
        "Exercise 2: Following is the provided numPy array. Return array of items by taking the third column from all rows \\\\\n",
        "sampleArray = numpy.array ( [ [ 11 ,22, 33 ], [ 44, 55, 66 ], [ 77, 88, 99 ] ] )"
      ],
      "metadata": {
        "id": "jLVSC8epw0Wz"
      }
    },
    {
      "cell_type": "code",
      "source": [
        "import numpy as np\n",
        "sampleArray = np.array ( [ [ 11 ,22, 33 ], [ 44, 55, 66 ], [ 77, 88, 99 ] ] )\n",
        "third_column = sampleArray[:, 2]\n",
        "print(\"Third coloumn from all rows-\",third_column)\n"
      ],
      "metadata": {
        "id": "UVRODBc1wyjl",
        "colab": {
          "base_uri": "https://localhost:8080/"
        },
        "outputId": "b2bcee28-2f59-43f0-a464-af64478436ad"
      },
      "execution_count": null,
      "outputs": [
        {
          "output_type": "stream",
          "name": "stdout",
          "text": [
            "Third coloumn from all rows- [33 66 99]\n"
          ]
        }
      ]
    },
    {
      "cell_type": "markdown",
      "source": [
        "Exercise 3: Sort following NumPy array \\\\\n",
        "Case 1: Sort array by the second row \\\\\n",
        "Case 2: Sort the array by the second column"
      ],
      "metadata": {
        "id": "T72G3kpRxESl"
      }
    },
    {
      "cell_type": "code",
      "source": [
        "import numpy as np\n",
        "sampleArray = np.array ( [ [ 11 ,22, 33 ], [ 44, 55, 66 ], [ 77, 88, 99 ] ] )\n",
        "sorted_row = sampleArray[:, sampleArray[1].argsort()]\n",
        "sorted_column = sampleArray[sampleArray[:, 1].argsort()]\n",
        "print(\"Case 1: Sorted by second row\",sorted_row)\n",
        "print(\"Case 2: Sorted by second column\",sorted_column)\n"
      ],
      "metadata": {
        "id": "kdPN_yoaxULi",
        "colab": {
          "base_uri": "https://localhost:8080/"
        },
        "outputId": "d9c81fe3-988a-41b2-a147-f97d220d89ce"
      },
      "execution_count": null,
      "outputs": [
        {
          "output_type": "stream",
          "name": "stdout",
          "text": [
            "Case 1: Sorted by second row [[11 22 33]\n",
            " [44 55 66]\n",
            " [77 88 99]]\n",
            "Case 2: Sorted by second column [[11 22 33]\n",
            " [44 55 66]\n",
            " [77 88 99]]\n"
          ]
        }
      ]
    },
    {
      "cell_type": "markdown",
      "source": [
        "## Pandas Exercises\n",
        "In this exercise, we are using Automobile Dataset for data analysis. This Dataset has different characteristics of an auto such as body-style, wheel-base, engine-type, price, mileage, horsepower, etc. \\\\\n",
        "https://pynative.com/wp-content/uploads/2019/01/Automobile_data.csv"
      ],
      "metadata": {
        "id": "RUiLxEnkxXKF"
      }
    },
    {
      "cell_type": "markdown",
      "source": [
        "Exercise 1: From the given dataset print the first and last five rows."
      ],
      "metadata": {
        "id": "Bgvaffg70VqZ"
      }
    },
    {
      "cell_type": "code",
      "source": [
        "import pandas as pd\n",
        "data = pd.read_csv(\"/content/Automobile_data.csv\")\n",
        "print(\"First five rows:\",data.head(5))\n",
        "print(\"\\nLast five rows:\",data.tail(5))"
      ],
      "metadata": {
        "id": "RT2zrs5y2ZUB",
        "colab": {
          "base_uri": "https://localhost:8080/"
        },
        "outputId": "9ff3a57f-e9d4-4896-f319-a50f6a7076f7"
      },
      "execution_count": null,
      "outputs": [
        {
          "output_type": "stream",
          "name": "stdout",
          "text": [
            "First five rows:    index      company   body-style  wheel-base  length engine-type  \\\n",
            "0      0  alfa-romero  convertible        88.6   168.8        dohc   \n",
            "1      1  alfa-romero  convertible        88.6   168.8        dohc   \n",
            "2      2  alfa-romero    hatchback        94.5   171.2        ohcv   \n",
            "3      3         audi        sedan        99.8   176.6         ohc   \n",
            "4      4         audi        sedan        99.4   176.6         ohc   \n",
            "\n",
            "  num-of-cylinders  horsepower  average-mileage    price  \n",
            "0             four         111               21  13495.0  \n",
            "1             four         111               21  16500.0  \n",
            "2              six         154               19  16500.0  \n",
            "3             four         102               24  13950.0  \n",
            "4             five         115               18  17450.0  \n",
            "\n",
            "Last five rows:     index     company body-style  wheel-base  length engine-type  \\\n",
            "56     81  volkswagen      sedan        97.3   171.7         ohc   \n",
            "57     82  volkswagen      sedan        97.3   171.7         ohc   \n",
            "58     86  volkswagen      sedan        97.3   171.7         ohc   \n",
            "59     87       volvo      sedan       104.3   188.8         ohc   \n",
            "60     88       volvo      wagon       104.3   188.8         ohc   \n",
            "\n",
            "   num-of-cylinders  horsepower  average-mileage    price  \n",
            "56             four          85               27   7975.0  \n",
            "57             four          52               37   7995.0  \n",
            "58             four         100               26   9995.0  \n",
            "59             four         114               23  12940.0  \n",
            "60             four         114               23  13415.0  \n"
          ]
        }
      ]
    },
    {
      "cell_type": "markdown",
      "source": [
        "Exercise 2: Replace all column values which contain ?, n.a, or NaN with suitable values and print the updated dataset.:"
      ],
      "metadata": {
        "id": "FB-hfiNh2Z42"
      }
    },
    {
      "cell_type": "code",
      "source": [
        "import pandas as pd\n",
        "data = pd.read_csv(\"/content/Automobile_data.csv\")\n",
        "data = data.replace(\"?\", pd.NA)\n",
        "data = data.replace(\"n.a\", pd.NA)\n",
        "data = data.dropna()\n",
        "print(data)"
      ],
      "metadata": {
        "id": "n8u7K1cU2x4l",
        "colab": {
          "base_uri": "https://localhost:8080/"
        },
        "outputId": "0e4bb5ed-e137-4310-c841-53afb8abf149"
      },
      "execution_count": null,
      "outputs": [
        {
          "output_type": "stream",
          "name": "stdout",
          "text": [
            "    index        company   body-style  wheel-base  length engine-type  \\\n",
            "0       0    alfa-romero  convertible        88.6   168.8        dohc   \n",
            "1       1    alfa-romero  convertible        88.6   168.8        dohc   \n",
            "2       2    alfa-romero    hatchback        94.5   171.2        ohcv   \n",
            "3       3           audi        sedan        99.8   176.6         ohc   \n",
            "4       4           audi        sedan        99.4   176.6         ohc   \n",
            "5       5           audi        sedan        99.8   177.3         ohc   \n",
            "6       6           audi        wagon       105.8   192.7         ohc   \n",
            "7       9            bmw        sedan       101.2   176.8         ohc   \n",
            "8      10            bmw        sedan       101.2   176.8         ohc   \n",
            "9      11            bmw        sedan       101.2   176.8         ohc   \n",
            "10     13            bmw        sedan       103.5   189.0         ohc   \n",
            "11     14            bmw        sedan       103.5   193.8         ohc   \n",
            "12     15            bmw        sedan       110.0   197.0         ohc   \n",
            "13     16      chevrolet    hatchback        88.4   141.1           l   \n",
            "14     17      chevrolet    hatchback        94.5   155.9         ohc   \n",
            "15     18      chevrolet        sedan        94.5   158.8         ohc   \n",
            "16     19          dodge    hatchback        93.7   157.3         ohc   \n",
            "17     20          dodge    hatchback        93.7   157.3         ohc   \n",
            "18     27          honda        wagon        96.5   157.1         ohc   \n",
            "19     28          honda        sedan        96.5   175.4         ohc   \n",
            "20     29          honda        sedan        96.5   169.1         ohc   \n",
            "21     30          isuzu        sedan        94.3   170.7         ohc   \n",
            "24     33         jaguar        sedan       113.0   199.6        dohc   \n",
            "25     34         jaguar        sedan       113.0   199.6        dohc   \n",
            "26     35         jaguar        sedan       102.0   191.7        ohcv   \n",
            "27     36          mazda    hatchback        93.1   159.1         ohc   \n",
            "28     37          mazda    hatchback        93.1   159.1         ohc   \n",
            "29     38          mazda    hatchback        93.1   159.1         ohc   \n",
            "30     39          mazda    hatchback        95.3   169.0       rotor   \n",
            "31     43          mazda        sedan       104.9   175.0         ohc   \n",
            "32     44  mercedes-benz        sedan       110.0   190.9         ohc   \n",
            "33     45  mercedes-benz        wagon       110.0   190.9         ohc   \n",
            "34     46  mercedes-benz        sedan       120.9   208.1        ohcv   \n",
            "35     47  mercedes-benz      hardtop       112.0   199.2        ohcv   \n",
            "36     49     mitsubishi    hatchback        93.7   157.3         ohc   \n",
            "37     50     mitsubishi    hatchback        93.7   157.3         ohc   \n",
            "38     51     mitsubishi        sedan        96.3   172.4         ohc   \n",
            "39     52     mitsubishi        sedan        96.3   172.4         ohc   \n",
            "40     53         nissan        sedan        94.5   165.3         ohc   \n",
            "41     54         nissan        sedan        94.5   165.3         ohc   \n",
            "42     55         nissan        sedan        94.5   165.3         ohc   \n",
            "43     56         nissan        wagon        94.5   170.2         ohc   \n",
            "44     57         nissan        sedan       100.4   184.6        ohcv   \n",
            "45     61        porsche      hardtop        89.5   168.9        ohcf   \n",
            "46     62        porsche  convertible        89.5   168.9        ohcf   \n",
            "48     66         toyota    hatchback        95.7   158.7         ohc   \n",
            "49     67         toyota    hatchback        95.7   158.7         ohc   \n",
            "50     68         toyota    hatchback        95.7   158.7         ohc   \n",
            "51     69         toyota        wagon        95.7   169.7         ohc   \n",
            "52     70         toyota        wagon        95.7   169.7         ohc   \n",
            "53     71         toyota        wagon        95.7   169.7         ohc   \n",
            "54     79         toyota        wagon       104.5   187.8        dohc   \n",
            "55     80     volkswagen        sedan        97.3   171.7         ohc   \n",
            "56     81     volkswagen        sedan        97.3   171.7         ohc   \n",
            "57     82     volkswagen        sedan        97.3   171.7         ohc   \n",
            "58     86     volkswagen        sedan        97.3   171.7         ohc   \n",
            "59     87          volvo        sedan       104.3   188.8         ohc   \n",
            "60     88          volvo        wagon       104.3   188.8         ohc   \n",
            "\n",
            "   num-of-cylinders  horsepower  average-mileage    price  \n",
            "0              four         111               21  13495.0  \n",
            "1              four         111               21  16500.0  \n",
            "2               six         154               19  16500.0  \n",
            "3              four         102               24  13950.0  \n",
            "4              five         115               18  17450.0  \n",
            "5              five         110               19  15250.0  \n",
            "6              five         110               19  18920.0  \n",
            "7              four         101               23  16430.0  \n",
            "8              four         101               23  16925.0  \n",
            "9               six         121               21  20970.0  \n",
            "10              six         182               16  30760.0  \n",
            "11              six         182               16  41315.0  \n",
            "12              six         182               15  36880.0  \n",
            "13            three          48               47   5151.0  \n",
            "14             four          70               38   6295.0  \n",
            "15             four          70               38   6575.0  \n",
            "16             four          68               31   6377.0  \n",
            "17             four          68               31   6229.0  \n",
            "18             four          76               30   7295.0  \n",
            "19             four         101               24  12945.0  \n",
            "20             four         100               25  10345.0  \n",
            "21             four          78               24   6785.0  \n",
            "24              six         176               15  32250.0  \n",
            "25              six         176               15  35550.0  \n",
            "26           twelve         262               13  36000.0  \n",
            "27             four          68               30   5195.0  \n",
            "28             four          68               31   6095.0  \n",
            "29             four          68               31   6795.0  \n",
            "30              two         101               17  11845.0  \n",
            "31             four          72               31  18344.0  \n",
            "32             five         123               22  25552.0  \n",
            "33             five         123               22  28248.0  \n",
            "34            eight         184               14  40960.0  \n",
            "35            eight         184               14  45400.0  \n",
            "36             four          68               37   5389.0  \n",
            "37             four          68               31   6189.0  \n",
            "38             four          88               25   6989.0  \n",
            "39             four          88               25   8189.0  \n",
            "40             four          55               45   7099.0  \n",
            "41             four          69               31   6649.0  \n",
            "42             four          69               31   6849.0  \n",
            "43             four          69               31   7349.0  \n",
            "44              six         152               19  13499.0  \n",
            "45              six         207               17  34028.0  \n",
            "46              six         207               17  37028.0  \n",
            "48             four          62               35   5348.0  \n",
            "49             four          62               31   6338.0  \n",
            "50             four          62               31   6488.0  \n",
            "51             four          62               31   6918.0  \n",
            "52             four          62               27   7898.0  \n",
            "53             four          62               27   8778.0  \n",
            "54              six         156               19  15750.0  \n",
            "55             four          52               37   7775.0  \n",
            "56             four          85               27   7975.0  \n",
            "57             four          52               37   7995.0  \n",
            "58             four         100               26   9995.0  \n",
            "59             four         114               23  12940.0  \n",
            "60             four         114               23  13415.0  \n"
          ]
        }
      ]
    },
    {
      "cell_type": "markdown",
      "source": [
        "Exercise 5: Count total cars per company and print them\n",
        "\n",
        "\n"
      ],
      "metadata": {
        "id": "67ErI6He2wz6"
      }
    },
    {
      "cell_type": "code",
      "source": [
        "import pandas as pd\n",
        "data = pd.read_csv(\"/content/Automobile_data.csv\")\n",
        "company_counts = data[\"company\"].value_counts()\n",
        "print(company_counts)"
      ],
      "metadata": {
        "id": "8H6ytVXD26Ae",
        "colab": {
          "base_uri": "https://localhost:8080/"
        },
        "outputId": "cc8fe8ba-5234-446f-ece4-86fbe859fa73"
      },
      "execution_count": null,
      "outputs": [
        {
          "output_type": "stream",
          "name": "stdout",
          "text": [
            "company\n",
            "toyota           7\n",
            "bmw              6\n",
            "mazda            5\n",
            "nissan           5\n",
            "mercedes-benz    4\n",
            "audi             4\n",
            "volkswagen       4\n",
            "mitsubishi       4\n",
            "chevrolet        3\n",
            "jaguar           3\n",
            "isuzu            3\n",
            "honda            3\n",
            "porsche          3\n",
            "alfa-romero      3\n",
            "dodge            2\n",
            "volvo            2\n",
            "Name: count, dtype: int64\n"
          ]
        }
      ]
    },
    {
      "cell_type": "markdown",
      "source": [
        "## Matplotlib Exercises"
      ],
      "metadata": {
        "id": "OcyPTwrWxdXt"
      }
    },
    {
      "cell_type": "markdown",
      "source": [
        "Use the following CSV file for this exercise. Read this file using Pandas or NumPy or using in-built matplotlib function. \\\\\n",
        "https://pynative.com/wp-content/uploads/2019/01/company_sales_data.csv"
      ],
      "metadata": {
        "id": "f0JDeA8Lxu-8"
      }
    },
    {
      "cell_type": "markdown",
      "source": [
        "Exercise 1: Read Total profit of all months and show it using a line plot \\\\\n",
        "Total profit data provided for each month. Generated line plot must include the following properties: –\n",
        "\n",
        "X label name = Month Number \\\\\n",
        "Y label name = Total profit \\\\\n",
        "\n",
        "\n"
      ],
      "metadata": {
        "id": "zYDZqjEzyoFN"
      }
    },
    {
      "cell_type": "code",
      "source": [
        "import pandas as pd\n",
        "import matplotlib.pyplot as plt\n",
        "data = pd.read_csv(\"/content/company_sales_data.csv\")\n",
        "plt.plot(data[\"month_number\"], data[\"total_profit\"])\n",
        "plt.xlabel(\"Month Number\")\n",
        "plt.ylabel(\"Total profit\")\n",
        "plt.show()\n"
      ],
      "metadata": {
        "id": "wp_s9Dh50MQX",
        "colab": {
          "base_uri": "https://localhost:8080/",
          "height": 449
        },
        "outputId": "92978414-a5cb-429f-f39c-05af1d2218fe"
      },
      "execution_count": null,
      "outputs": [
        {
          "output_type": "display_data",
          "data": {
            "text/plain": [
              "<Figure size 640x480 with 1 Axes>"
            ],
            "image/png": "[encoded data removed]"
          },
          "metadata": {}
        }
      ]
    },
    {
      "cell_type": "markdown",
      "source": [
        "Exercise : Read face cream and facewash product sales data and show it using the bar chart \\\\\n",
        "The bar chart should display the number of units sold per month for each product. \\\\\n",
        "Add a separate bar for each product in the same chart."
      ],
      "metadata": {
        "id": "muEpI78E0LjF"
      }
    },
    {
      "cell_type": "code",
      "source": [
        "import pandas as pd\n",
        "import matplotlib.pyplot as plt\n",
        "data = pd.read_csv(\"/content/company_sales_data.csv\")\n",
        "plt.bar(data[\"month_number\"], data[\"facecream\"], label=\"Facecream\")\n",
        "plt.bar(data[\"month_number\"], data[\"facewash\"], label=\"Facewash\")"
      ],
      "metadata": {
        "id": "JmR3PAE71gIi",
        "colab": {
          "base_uri": "https://localhost:8080/",
          "height": 447
        },
        "outputId": "4bd674cf-fc89-4912-ad58-a5a4cdcc30ea"
      },
      "execution_count": null,
      "outputs": [
        {
          "output_type": "execute_result",
          "data": {
            "text/plain": [
              "<BarContainer object of 12 artists>"
            ]
          },
          "metadata": {},
          "execution_count": 25
        },
        {
          "output_type": "display_data",
          "data": {
            "text/plain": [
              "<Figure size 640x480 with 1 Axes>"
            ],
            "image/png": "[encoded data removed]"
          },
          "metadata": {}
        }
      ]
    }
  ]
}