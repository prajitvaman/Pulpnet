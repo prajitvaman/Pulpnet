{
  "nbformat": 4,
  "nbformat_minor": 0,
  "metadata": {
    "colab": {
      "provenance": []
    },
    "kernelspec": {
      "name": "python3",
      "display_name": "Python 3"
    },
    "language_info": {
      "name": "python"
    }
  },
  "cells": [
    {
      "cell_type": "markdown",
      "source": [
        "# Assignment 0\n",
        "**Instrunctions for the assignment** \\\\\n",
        "\n",
        "*   Open Google Colab: Begin by launching Google Colab and creating a new Python notebook.\n",
        "*   Read Comments Carefully: Pay close attention to the comments provided within the codeblocks.\n",
        "\n",
        "\n",
        "*   Code Block Completion: Fill in the codeblocks as per the instructions given in the comments.\n",
        "*   Avoid Copying: Ensure that you understand the concepts and refrain from directly copying code from external sources.\n",
        "\n",
        "\n",
        "*   Execute Codeblocks: Verify that each codeblock runs without errors by executing them.\n",
        "*   Save and Submit: Once you've completed the assignment, save your notebook and follow the submission guidelines provided by your instructor.\n",
        "\n",
        "\n",
        "\n",
        "\n",
        "\n",
        "\n",
        "\n",
        "\n",
        "\n",
        "\n",
        "**Notes:**\n",
        "\n",
        "Encouragement: Take your time to understand the concepts behind each codeblock. This assignment aims to strengthen your Python programming skills. \\\\\n",
        "Good Luck! : If you have any questions or require clarification on any aspect of the instructions, feel free to ask. \\\\\n",
        " \\\\\n",
        "\n",
        "Best wishes for your assignment! These instructions are crafted to provide clarity and guidance as you work through the tasks in Google Colab.\n",
        "\n",
        "\n",
        "\n",
        "\n",
        "\n",
        "\n",
        "\n"
      ],
      "metadata": {
        "id": "U2p472EZsFQh"
      }
    },
    {
      "cell_type": "markdown",
      "source": [
        "## Getting Started\n",
        "Solving these exercises will help make you a better programmer. Solve them in order, because each solution builds scaffolding, working code, and knowledge you can use on future problems. Read the directions carefully, and have fun!\n",
        "\n",
        "\n",
        "\n",
        "*   To save your work to your Google Drive, go to File then \"Save Copy in Drive\".\n",
        "*   Your own work will now appear in your Google Drive account!\n",
        "*   Work on this copy as directed"
      ],
      "metadata": {
        "id": "jGDFomGq3i87"
      }
    },
    {
      "cell_type": "markdown",
      "source": [
        "## What to do when you don't know what to do next\n",
        "- When the exercise asks you to reverse an list, the way forward is to search for \"How to reverse a list in Python\" in your favorite search engine.\n",
        "- When the exercise asks you to check if a number is even, the way forward is to search for \"how to check if a number is even in Python\".\n",
        "- When the exercise has you calculate the area of a circle, the way forward is to search for \"how to calculate the area of a circle in Python\" or \"How to get pi in Python\".\n",
        "\n",
        "😀😀"
      ],
      "metadata": {
        "id": "jZ1hWiMO4TTN"
      }
    },
    {
      "cell_type": "markdown",
      "source": [
        "## Basic Python Exercises"
      ],
      "metadata": {
        "id": "LKjbv4-Mmp3_"
      }
    },
    {
      "cell_type": "markdown",
      "source": [
        "1. Create a new list from two list \\\\\n",
        "list1 = [10, 20, 25, 30, 35] \\\\\n",
        "list2 = [40, 45, 60, 75, 90]"
      ],
      "metadata": {
        "id": "POUIXeAkoAJy"
      }
    },
    {
      "cell_type": "code",
      "source": [
        "list1 = [10, 20, 25, 30, 35]\n",
        "list2 = [40, 45, 60, 75, 90]\n",
        "list3= list1+ list2\n",
        "print(list3)"
      ],
      "metadata": {
        "id": "083WsOfvmz3k",
        "outputId": "4c08e76f-759e-4cb4-ac4f-dfb51678ac84",
        "colab": {
          "base_uri": "https://localhost:8080/"
        }
      },
      "execution_count": null,
      "outputs": [
        {
          "output_type": "stream",
          "name": "stdout",
          "text": [
            "[10, 20, 25, 30, 35, 40, 45, 60, 75, 90]\n"
          ]
        }
      ]
    },
    {
      "cell_type": "markdown",
      "source": [
        "2. Print multiplication table from 1 to 10"
      ],
      "metadata": {
        "id": "mBuOTb3vo7SY"
      }
    },
    {
      "cell_type": "code",
      "source": [
        "for i in range(1,11):\n",
        "  for j in range(1,11):\n",
        "    print(i*j, end='\\t')\n"
      ],
      "metadata": {
        "id": "ALdwhW6uqRTB",
        "outputId": "17cb3f5c-c376-440f-fe27-23deba590f52",
        "colab": {
          "base_uri": "https://localhost:8080/"
        }
      },
      "execution_count": null,
      "outputs": [
        {
          "output_type": "stream",
          "name": "stdout",
          "text": [
            "1\t2\t3\t4\t5\t6\t7\t8\t9\t10\t2\t4\t6\t8\t10\t12\t14\t16\t18\t20\t3\t6\t9\t12\t15\t18\t21\t24\t27\t30\t4\t8\t12\t16\t20\t24\t28\t32\t36\t40\t5\t10\t15\t20\t25\t30\t35\t40\t45\t50\t6\t12\t18\t24\t30\t36\t42\t48\t54\t60\t7\t14\t21\t28\t35\t42\t49\t56\t63\t70\t8\t16\t24\t32\t40\t48\t56\t64\t72\t80\t9\t18\t27\t36\t45\t54\t63\t72\t81\t90\t10\t20\t30\t40\t50\t60\t70\t80\t90\t100\t"
          ]
        }
      ]
    },
    {
      "cell_type": "markdown",
      "source": [
        "3. Print a downward Half-Pyramid Pattern\n",
        "\n",
        "0 0 0 0 0   \n",
        "0 0 0 0 <br>\n",
        "0 0 0 <br>\n",
        "0 0 <br>\n",
        "0"
      ],
      "metadata": {
        "id": "rXhutUXXqR5x"
      }
    },
    {
      "cell_type": "code",
      "source": [
        "for i in range(1,6):\n",
        "  for j in range(1,7-i):\n",
        "    print(0, end='\\t')\n",
        "  print()\n"
      ],
      "metadata": {
        "id": "U9j7N1nrtw--",
        "outputId": "d6aac504-219b-4cf5-92e3-b21b45fc8efe",
        "colab": {
          "base_uri": "https://localhost:8080/"
        }
      },
      "execution_count": null,
      "outputs": [
        {
          "output_type": "stream",
          "name": "stdout",
          "text": [
            "0\t0\t0\t0\t0\t\n",
            "0\t0\t0\t0\t\n",
            "0\t0\t0\t\n",
            "0\t0\t\n",
            "0\t\n"
          ]
        }
      ]
    },
    {
      "cell_type": "markdown",
      "source": [
        " 4. Given the following assignment of the vegetables list, add \"tomato\" to the end of the list and sort them in alphabetical order.\\\n",
        "vegetables = [\"eggplant\", \"broccoli\", \"carrot\",\"cauliflower\", \"zucchini\"]"
      ],
      "metadata": {
        "id": "Re-QzSX4ugH-"
      }
    },
    {
      "cell_type": "code",
      "source": [
        "vegetables = [\"eggplant\", \"broccoli\", \"carrot\",\"cauliflower\", \"zucchini\"]\n",
        "vegetables.append('tomato')\n",
        "print(vegetables)\n",
        "vegetables.sort()\n",
        "print(vegetables)"
      ],
      "metadata": {
        "id": "hnA-2EIDuxEH",
        "outputId": "54528661-5510-4126-b6c2-150a1c251857",
        "colab": {
          "base_uri": "https://localhost:8080/"
        }
      },
      "execution_count": null,
      "outputs": [
        {
          "output_type": "stream",
          "name": "stdout",
          "text": [
            "['eggplant', 'broccoli', 'carrot', 'cauliflower', 'zucchini', 'tomato']\n",
            "['broccoli', 'carrot', 'cauliflower', 'eggplant', 'tomato', 'zucchini']\n"
          ]
        }
      ]
    },
    {
      "cell_type": "markdown",
      "source": [
        "5. Write a function definition named is_odd that takes in a number and returns True or False if that number is odd."
      ],
      "metadata": {
        "id": "ARyaOlp8uxix"
      }
    },
    {
      "cell_type": "code",
      "source": [
        "def is_odd(num):\n",
        "  if num%2==0:\n",
        "    return False\n",
        "  else:\n",
        "    return True\n",
        "num=int(input())\n",
        "is_odd(num)"
      ],
      "metadata": {
        "id": "OztCSuVjvACz",
        "outputId": "92a5a536-0355-4434-bafe-d2eda274c40e",
        "colab": {
          "base_uri": "https://localhost:8080/"
        }
      },
      "execution_count": null,
      "outputs": [
        {
          "name": "stdout",
          "output_type": "stream",
          "text": [
            "10\n"
          ]
        },
        {
          "output_type": "execute_result",
          "data": {
            "text/plain": [
              "False"
            ]
          },
          "metadata": {},
          "execution_count": 9
        }
      ]
    },
    {
      "cell_type": "markdown",
      "source": [
        "6. Write a function definition named mode that takes in sequence of numbers and returns the most commonly occuring value"
      ],
      "metadata": {
        "id": "GIAo6YfLu_AJ"
      }
    },
    {
      "cell_type": "code",
      "source": [
        "def mode(seq):\n",
        "  freq={}\n",
        "  for i in seq:\n",
        "    if i in freq:\n",
        "      freq[i]=freq[i]+1\n",
        "    else:\n",
        "      freq[i]=1\n",
        "  max_freq=0\n",
        "  mode=0\n",
        "  for i in freq:\n",
        "    if freq[i]>max_freq:\n",
        "      max_freq=freq[i]\n",
        "      mode=i\n",
        "  return mode"
      ],
      "metadata": {
        "id": "WEikC1aTvXoS"
      },
      "execution_count": null,
      "outputs": []
    },
    {
      "cell_type": "markdown",
      "source": [
        "## Numpy Exercises"
      ],
      "metadata": {
        "id": "AKuHwB0lvZn-"
      }
    },
    {
      "cell_type": "markdown",
      "source": [
        "Exercise 1: Create a 4X2 integer array and Prints its attributes \\\\\n",
        "**Note:** The element must be a type of unsigned int16. \\\\\n",
        "And print the following Attributes: –\n",
        "\n",
        "\n",
        "\n",
        "1.   The shape of an array.\n",
        "2.   Array dimensions.\n",
        "3.   The Length of each element of the array in bytes.\n",
        "\n",
        "\n",
        "\n",
        "\n",
        "\n"
      ],
      "metadata": {
        "id": "8f2ww678vf5S"
      }
    },
    {
      "cell_type": "code",
      "source": [
        "import numpy as np\n",
        "arr=np.array(([7,9], [3,4], [2,4], [1,8]), np.dtype(np.int16))\n",
        "print(arr)\n",
        "print(arr.shape)\n",
        "print(arr.ndim)\n",
        "print(arr.itemsize)"
      ],
      "metadata": {
        "id": "2YMq_rbcwTeb",
        "outputId": "1709463b-0b0b-4322-b31e-f7230c0d6de2",
        "colab": {
          "base_uri": "https://localhost:8080/"
        }
      },
      "execution_count": null,
      "outputs": [
        {
          "output_type": "stream",
          "name": "stdout",
          "text": [
            "[[7 9]\n",
            " [3 4]\n",
            " [2 4]\n",
            " [1 8]]\n",
            "(4, 2)\n",
            "2\n",
            "2\n"
          ]
        }
      ]
    },
    {
      "cell_type": "markdown",
      "source": [
        "Exercise 2: Following is the provided numPy array. Return array of items by taking the third column from all rows \\\\\n",
        "sampleArray = numpy.array ( [ [ 11 ,22, 33 ], [ 44, 55, 66 ], [ 77, 88, 99 ] ] )"
      ],
      "metadata": {
        "id": "jLVSC8epw0Wz"
      }
    },
    {
      "cell_type": "code",
      "source": [
        "import numpy as numpy\n",
        "sampleArray = numpy.array ( [ [ 11 ,22, 33 ], [ 44, 55, 66 ], [ 77, 88, 99 ] ] )\n",
        "arr= sampleArray[:,2] #overall list go full range, in lists inside list take only index 2\n",
        "print(arr)"
      ],
      "metadata": {
        "id": "UVRODBc1wyjl",
        "outputId": "c844cd97-9f55-427a-dded-f6499768027e",
        "colab": {
          "base_uri": "https://localhost:8080/"
        }
      },
      "execution_count": null,
      "outputs": [
        {
          "output_type": "stream",
          "name": "stdout",
          "text": [
            "[33 66 99]\n"
          ]
        }
      ]
    },
    {
      "cell_type": "markdown",
      "source": [
        "Exercise 3: Sort following NumPy array \\\\\n",
        "Case 1: Sort array by the second row \\\\\n",
        "Case 2: Sort the array by the second column"
      ],
      "metadata": {
        "id": "T72G3kpRxESl"
      }
    },
    {
      "cell_type": "code",
      "source": [
        "import numpy as numpy\n",
        "sampleArray = numpy.array ( [ [ 11 ,22, 33 ], [ 44, 55, 66 ], [ 77, 88, 99 ] ] )\n",
        "sorted_row=sampleArray[:,sampleArray[1,:].argsort()]\n",
        "print(sorted_row)\n",
        "sorted_col=sampleArray[sampleArray[:,1].argsort()]\n",
        "print(sorted_col)"
      ],
      "metadata": {
        "id": "kdPN_yoaxULi",
        "outputId": "73c1b220-d7cb-4706-9600-89f6e82a70c2",
        "colab": {
          "base_uri": "https://localhost:8080/"
        }
      },
      "execution_count": null,
      "outputs": [
        {
          "output_type": "stream",
          "name": "stdout",
          "text": [
            "[[11 22 33]\n",
            " [44 55 66]\n",
            " [77 88 99]]\n",
            "[[11 22 33]\n",
            " [44 55 66]\n",
            " [77 88 99]]\n"
          ]
        }
      ]
    },
    {
      "cell_type": "markdown",
      "source": [
        "## Pandas Exercises\n",
        "In this exercise, we are using Automobile Dataset for data analysis. This Dataset has different characteristics of an auto such as body-style, wheel-base, engine-type, price, mileage, horsepower, etc. \\\\\n",
        "https://pynative.com/wp-content/uploads/2019/01/Automobile_data.csv"
      ],
      "metadata": {
        "id": "RUiLxEnkxXKF"
      }
    },
    {
      "cell_type": "markdown",
      "source": [
        "Exercise 1: From the given dataset print the first and last five rows."
      ],
      "metadata": {
        "id": "Bgvaffg70VqZ"
      }
    },
    {
      "cell_type": "code",
      "source": [
        "import pandas as pd\n",
        "from google.colab import files\n",
        "uploaded= files.upload()\n",
        "df=pd.read_csv('Automobile_data.csv')\n",
        "print(df.head(5))\n",
        "print(df.tail(5))"
      ],
      "metadata": {
        "id": "RT2zrs5y2ZUB",
        "outputId": "1c27b85e-de48-42f5-c795-05b682f4d259",
        "colab": {
          "base_uri": "https://localhost:8080/",
          "height": 546
        }
      },
      "execution_count": null,
      "outputs": [
        {
          "output_type": "display_data",
          "data": {
            "text/plain": [
              "<IPython.core.display.HTML object>"
            ],
            "text/html": [
              "\n",
              "     <input type=\"file\" id=\"files-793dbb5c-839e-4d3e-9743-382b46201120\" name=\"files[]\" multiple disabled\n",
              "        style=\"border:none\" />\n",
              "     <output id=\"result-793dbb5c-839e-4d3e-9743-382b46201120\">\n",
              "      Upload widget is only available when the cell has been executed in the\n",
              "      current browser session. Please rerun this cell to enable.\n",
              "      </output>\n",
              "      <script>// Copyright 2017 Google LLC\n",
              "//\n",
              "// Licensed under the Apache License, Version 2.0 (the \"License\");\n",
              "// you may not use this file except in compliance with the License.\n",
              "// You may obtain a copy of the License at\n",
              "//\n",
              "//      http://www.apache.org/licenses/LICENSE-2.0\n",
              "//\n",
              "// Unless required by applicable law or agreed to in writing, software\n",
              "// distributed under the License is distributed on an \"AS IS\" BASIS,\n",
              "// WITHOUT WARRANTIES OR CONDITIONS OF ANY KIND, either express or implied.\n",
              "// See the License for the specific language governing permissions and\n",
              "// limitations under the License.\n",
              "\n",
              "/**\n",
              " * @fileoverview Helpers for google.colab Python module.\n",
              " */\n",
              "(function(scope) {\n",
              "function span(text, styleAttributes = {}) {\n",
              "  const element = document.createElement('span');\n",
              "  element.textContent = text;\n",
              "  for (const key of Object.keys(styleAttributes)) {\n",
              "    element.style[key] = styleAttributes[key];\n",
              "  }\n",
              "  return element;\n",
              "}\n",
              "\n",
              "// Max number of bytes which will be uploaded at a time.\n",
              "const MAX_PAYLOAD_SIZE = 100 * 1024;\n",
              "\n",
              "function _uploadFiles(inputId, outputId) {\n",
              "  const steps = uploadFilesStep(inputId, outputId);\n",
              "  const outputElement = document.getElementById(outputId);\n",
              "  // Cache steps on the outputElement to make it available for the next call\n",
              "  // to uploadFilesContinue from Python.\n",
              "  outputElement.steps = steps;\n",
              "\n",
              "  return _uploadFilesContinue(outputId);\n",
              "}\n",
              "\n",
              "// This is roughly an async generator (not supported in the browser yet),\n",
              "// where there are multiple asynchronous steps and the Python side is going\n",
              "// to poll for completion of each step.\n",
              "// This uses a Promise to block the python side on completion of each step,\n",
              "// then passes the result of the previous step as the input to the next step.\n",
              "function _uploadFilesContinue(outputId) {\n",
              "  const outputElement = document.getElementById(outputId);\n",
              "  const steps = outputElement.steps;\n",
              "\n",
              "  const next = steps.next(outputElement.lastPromiseValue);\n",
              "  return Promise.resolve(next.value.promise).then((value) => {\n",
              "    // Cache the last promise value to make it available to the next\n",
              "    // step of the generator.\n",
              "    outputElement.lastPromiseValue = value;\n",
              "    return next.value.response;\n",
              "  });\n",
              "}\n",
              "\n",
              "/**\n",
              " * Generator function which is called between each async step of the upload\n",
              " * process.\n",
              " * @param {string} inputId Element ID of the input file picker element.\n",
              " * @param {string} outputId Element ID of the output display.\n",
              " * @return {!Iterable<!Object>} Iterable of next steps.\n",
              " */\n",
              "function* uploadFilesStep(inputId, outputId) {\n",
              "  const inputElement = document.getElementById(inputId);\n",
              "  inputElement.disabled = false;\n",
              "\n",
              "  const outputElement = document.getElementById(outputId);\n",
              "  outputElement.innerHTML = '';\n",
              "\n",
              "  const pickedPromise = new Promise((resolve) => {\n",
              "    inputElement.addEventListener('change', (e) => {\n",
              "      resolve(e.target.files);\n",
              "    });\n",
              "  });\n",
              "\n",
              "  const cancel = document.createElement('button');\n",
              "  inputElement.parentElement.appendChild(cancel);\n",
              "  cancel.textContent = 'Cancel upload';\n",
              "  const cancelPromise = new Promise((resolve) => {\n",
              "    cancel.onclick = () => {\n",
              "      resolve(null);\n",
              "    };\n",
              "  });\n",
              "\n",
              "  // Wait for the user to pick the files.\n",
              "  const files = yield {\n",
              "    promise: Promise.race([pickedPromise, cancelPromise]),\n",
              "    response: {\n",
              "      action: 'starting',\n",
              "    }\n",
              "  };\n",
              "\n",
              "  cancel.remove();\n",
              "\n",
              "  // Disable the input element since further picks are not allowed.\n",
              "  inputElement.disabled = true;\n",
              "\n",
              "  if (!files) {\n",
              "    return {\n",
              "      response: {\n",
              "        action: 'complete',\n",
              "      }\n",
              "    };\n",
              "  }\n",
              "\n",
              "  for (const file of files) {\n",
              "    const li = document.createElement('li');\n",
              "    li.append(span(file.name, {fontWeight: 'bold'}));\n",
              "    li.append(span(\n",
              "        `(${file.type || 'n/a'}) - ${file.size} bytes, ` +\n",
              "        `last modified: ${\n",
              "            file.lastModifiedDate ? file.lastModifiedDate.toLocaleDateString() :\n",
              "                                    'n/a'} - `));\n",
              "    const percent = span('0% done');\n",
              "    li.appendChild(percent);\n",
              "\n",
              "    outputElement.appendChild(li);\n",
              "\n",
              "    const fileDataPromise = new Promise((resolve) => {\n",
              "      const reader = new FileReader();\n",
              "      reader.onload = (e) => {\n",
              "        resolve(e.target.result);\n",
              "      };\n",
              "      reader.readAsArrayBuffer(file);\n",
              "    });\n",
              "    // Wait for the data to be ready.\n",
              "    let fileData = yield {\n",
              "      promise: fileDataPromise,\n",
              "      response: {\n",
              "        action: 'continue',\n",
              "      }\n",
              "    };\n",
              "\n",
              "    // Use a chunked sending to avoid message size limits. See b/62115660.\n",
              "    let position = 0;\n",
              "    do {\n",
              "      const length = Math.min(fileData.byteLength - position, MAX_PAYLOAD_SIZE);\n",
              "      const chunk = new Uint8Array(fileData, position, length);\n",
              "      position += length;\n",
              "\n",
              "      const base64 = btoa(String.fromCharCode.apply(null, chunk));\n",
              "      yield {\n",
              "        response: {\n",
              "          action: 'append',\n",
              "          file: file.name,\n",
              "          data: base64,\n",
              "        },\n",
              "      };\n",
              "\n",
              "      let percentDone = fileData.byteLength === 0 ?\n",
              "          100 :\n",
              "          Math.round((position / fileData.byteLength) * 100);\n",
              "      percent.textContent = `${percentDone}% done`;\n",
              "\n",
              "    } while (position < fileData.byteLength);\n",
              "  }\n",
              "\n",
              "  // All done.\n",
              "  yield {\n",
              "    response: {\n",
              "      action: 'complete',\n",
              "    }\n",
              "  };\n",
              "}\n",
              "\n",
              "scope.google = scope.google || {};\n",
              "scope.google.colab = scope.google.colab || {};\n",
              "scope.google.colab._files = {\n",
              "  _uploadFiles,\n",
              "  _uploadFilesContinue,\n",
              "};\n",
              "})(self);\n",
              "</script> "
            ]
          },
          "metadata": {}
        },
        {
          "output_type": "stream",
          "name": "stdout",
          "text": [
            "Saving Automobile_data.csv to Automobile_data (1).csv\n",
            "   index      company   body-style  wheel-base  length engine-type  \\\n",
            "0      0  alfa-romero  convertible        88.6   168.8        dohc   \n",
            "1      1  alfa-romero  convertible        88.6   168.8        dohc   \n",
            "2      2  alfa-romero    hatchback        94.5   171.2        ohcv   \n",
            "3      3         audi        sedan        99.8   176.6         ohc   \n",
            "4      4         audi        sedan        99.4   176.6         ohc   \n",
            "\n",
            "  num-of-cylinders  horsepower  average-mileage    price  \n",
            "0             four         111               21  13495.0  \n",
            "1             four         111               21  16500.0  \n",
            "2              six         154               19  16500.0  \n",
            "3             four         102               24  13950.0  \n",
            "4             five         115               18  17450.0  \n",
            "    index     company body-style  wheel-base  length engine-type  \\\n",
            "56     81  volkswagen      sedan        97.3   171.7         ohc   \n",
            "57     82  volkswagen      sedan        97.3   171.7         ohc   \n",
            "58     86  volkswagen      sedan        97.3   171.7         ohc   \n",
            "59     87       volvo      sedan       104.3   188.8         ohc   \n",
            "60     88       volvo      wagon       104.3   188.8         ohc   \n",
            "\n",
            "   num-of-cylinders  horsepower  average-mileage    price  \n",
            "56             four          85               27   7975.0  \n",
            "57             four          52               37   7995.0  \n",
            "58             four         100               26   9995.0  \n",
            "59             four         114               23  12940.0  \n",
            "60             four         114               23  13415.0  \n"
          ]
        }
      ]
    },
    {
      "cell_type": "markdown",
      "source": [
        "Exercise 2: Replace all column values which contain ?, n.a, or NaN with suitable values and print the updated dataset.:"
      ],
      "metadata": {
        "id": "FB-hfiNh2Z42"
      }
    },
    {
      "cell_type": "code",
      "source": [
        "df.replace(['?', 'n.a'], pd.NA, inplace=True)\n",
        "df.fillna(df.mode().iloc[0], inplace=True)\n",
        "print(df)"
      ],
      "metadata": {
        "id": "n8u7K1cU2x4l",
        "outputId": "f943d5d5-de01-4705-bf78-fdea66afc59e",
        "colab": {
          "base_uri": "https://localhost:8080/"
        }
      },
      "execution_count": null,
      "outputs": [
        {
          "output_type": "stream",
          "name": "stdout",
          "text": [
            "    index      company   body-style  wheel-base  length engine-type  \\\n",
            "0       0  alfa-romero  convertible        88.6   168.8        dohc   \n",
            "1       1  alfa-romero  convertible        88.6   168.8        dohc   \n",
            "2       2  alfa-romero    hatchback        94.5   171.2        ohcv   \n",
            "3       3         audi        sedan        99.8   176.6         ohc   \n",
            "4       4         audi        sedan        99.4   176.6         ohc   \n",
            "..    ...          ...          ...         ...     ...         ...   \n",
            "56     81   volkswagen        sedan        97.3   171.7         ohc   \n",
            "57     82   volkswagen        sedan        97.3   171.7         ohc   \n",
            "58     86   volkswagen        sedan        97.3   171.7         ohc   \n",
            "59     87        volvo        sedan       104.3   188.8         ohc   \n",
            "60     88        volvo        wagon       104.3   188.8         ohc   \n",
            "\n",
            "   num-of-cylinders  horsepower  average-mileage    price  \n",
            "0              four         111               21  13495.0  \n",
            "1              four         111               21  16500.0  \n",
            "2               six         154               19  16500.0  \n",
            "3              four         102               24  13950.0  \n",
            "4              five         115               18  17450.0  \n",
            "..              ...         ...              ...      ...  \n",
            "56             four          85               27   7975.0  \n",
            "57             four          52               37   7995.0  \n",
            "58             four         100               26   9995.0  \n",
            "59             four         114               23  12940.0  \n",
            "60             four         114               23  13415.0  \n",
            "\n",
            "[61 rows x 10 columns]\n"
          ]
        }
      ]
    },
    {
      "cell_type": "markdown",
      "source": [
        "Exercise 5: Count total cars per company and print them\n",
        "\n",
        "\n"
      ],
      "metadata": {
        "id": "67ErI6He2wz6"
      }
    },
    {
      "cell_type": "code",
      "source": [
        "car_count = {}\n",
        "\n",
        "for index, row in df.iterrows():\n",
        "    company = row['company']  # get company name for the current row\n",
        "    if company in car_count:\n",
        "        car_count[company] += 1\n",
        "    else:\n",
        "        car_count[company] = 1\n",
        "\n",
        "# Print result\n",
        "for company, count in car_count.items():\n",
        "    print(company, \":\", count)\n"
      ],
      "metadata": {
        "id": "8H6ytVXD26Ae",
        "outputId": "d52fdcb4-a932-40a0-d034-5c8bec5be850",
        "colab": {
          "base_uri": "https://localhost:8080/"
        }
      },
      "execution_count": null,
      "outputs": [
        {
          "output_type": "stream",
          "name": "stdout",
          "text": [
            "alfa-romero : 3\n",
            "audi : 4\n",
            "bmw : 6\n",
            "chevrolet : 3\n",
            "dodge : 2\n",
            "honda : 3\n",
            "isuzu : 3\n",
            "jaguar : 3\n",
            "mazda : 5\n",
            "mercedes-benz : 4\n",
            "mitsubishi : 4\n",
            "nissan : 5\n",
            "porsche : 3\n",
            "toyota : 7\n",
            "volkswagen : 4\n",
            "volvo : 2\n"
          ]
        }
      ]
    },
    {
      "cell_type": "markdown",
      "source": [
        "## Matplotlib Exercises"
      ],
      "metadata": {
        "id": "OcyPTwrWxdXt"
      }
    },
    {
      "cell_type": "markdown",
      "source": [
        "Use the following CSV file for this exercise. Read this file using Pandas or NumPy or using in-built matplotlib function. \\\\\n",
        "https://pynative.com/wp-content/uploads/2019/01/company_sales_data.csv"
      ],
      "metadata": {
        "id": "f0JDeA8Lxu-8"
      }
    },
    {
      "cell_type": "markdown",
      "source": [
        "Exercise 1: Read Total profit of all months and show it using a line plot \\\\\n",
        "Total profit data provided for each month. Generated line plot must include the following properties: –\n",
        "\n",
        "X label name = Month Number \\\\\n",
        "Y label name = Total profit \\\\\n",
        "\n",
        "\n"
      ],
      "metadata": {
        "id": "zYDZqjEzyoFN"
      }
    },
    {
      "cell_type": "code",
      "source": [
        "import pandas as pd\n",
        "import matplotlib.pyplot as plt\n",
        "from google.colab import files\n",
        "uploaded= files.upload()\n",
        "df=pd.read_csv('company_sales_data.csv')\n",
        "plt.plot(df['month_number'], df['total_profit'])\n",
        "plt.xlabel('Month Number')\n",
        "plt.ylabel('Total profit')\n",
        "print(df)"
      ],
      "metadata": {
        "id": "wp_s9Dh50MQX",
        "outputId": "1edbea0f-f994-40d7-95c3-5e6cdf07fd0f",
        "colab": {
          "base_uri": "https://localhost:8080/",
          "height": 996
        }
      },
      "execution_count": null,
      "outputs": [
        {
          "output_type": "display_data",
          "data": {
            "text/plain": [
              "<IPython.core.display.HTML object>"
            ],
            "text/html": [
              "\n",
              "     <input type=\"file\" id=\"files-aca3b9f0-0b31-40fb-a533-28f4a3ae00c5\" name=\"files[]\" multiple disabled\n",
              "        style=\"border:none\" />\n",
              "     <output id=\"result-aca3b9f0-0b31-40fb-a533-28f4a3ae00c5\">\n",
              "      Upload widget is only available when the cell has been executed in the\n",
              "      current browser session. Please rerun this cell to enable.\n",
              "      </output>\n",
              "      <script>// Copyright 2017 Google LLC\n",
              "//\n",
              "// Licensed under the Apache License, Version 2.0 (the \"License\");\n",
              "// you may not use this file except in compliance with the License.\n",
              "// You may obtain a copy of the License at\n",
              "//\n",
              "//      http://www.apache.org/licenses/LICENSE-2.0\n",
              "//\n",
              "// Unless required by applicable law or agreed to in writing, software\n",
              "// distributed under the License is distributed on an \"AS IS\" BASIS,\n",
              "// WITHOUT WARRANTIES OR CONDITIONS OF ANY KIND, either express or implied.\n",
              "// See the License for the specific language governing permissions and\n",
              "// limitations under the License.\n",
              "\n",
              "/**\n",
              " * @fileoverview Helpers for google.colab Python module.\n",
              " */\n",
              "(function(scope) {\n",
              "function span(text, styleAttributes = {}) {\n",
              "  const element = document.createElement('span');\n",
              "  element.textContent = text;\n",
              "  for (const key of Object.keys(styleAttributes)) {\n",
              "    element.style[key] = styleAttributes[key];\n",
              "  }\n",
              "  return element;\n",
              "}\n",
              "\n",
              "// Max number of bytes which will be uploaded at a time.\n",
              "const MAX_PAYLOAD_SIZE = 100 * 1024;\n",
              "\n",
              "function _uploadFiles(inputId, outputId) {\n",
              "  const steps = uploadFilesStep(inputId, outputId);\n",
              "  const outputElement = document.getElementById(outputId);\n",
              "  // Cache steps on the outputElement to make it available for the next call\n",
              "  // to uploadFilesContinue from Python.\n",
              "  outputElement.steps = steps;\n",
              "\n",
              "  return _uploadFilesContinue(outputId);\n",
              "}\n",
              "\n",
              "// This is roughly an async generator (not supported in the browser yet),\n",
              "// where there are multiple asynchronous steps and the Python side is going\n",
              "// to poll for completion of each step.\n",
              "// This uses a Promise to block the python side on completion of each step,\n",
              "// then passes the result of the previous step as the input to the next step.\n",
              "function _uploadFilesContinue(outputId) {\n",
              "  const outputElement = document.getElementById(outputId);\n",
              "  const steps = outputElement.steps;\n",
              "\n",
              "  const next = steps.next(outputElement.lastPromiseValue);\n",
              "  return Promise.resolve(next.value.promise).then((value) => {\n",
              "    // Cache the last promise value to make it available to the next\n",
              "    // step of the generator.\n",
              "    outputElement.lastPromiseValue = value;\n",
              "    return next.value.response;\n",
              "  });\n",
              "}\n",
              "\n",
              "/**\n",
              " * Generator function which is called between each async step of the upload\n",
              " * process.\n",
              " * @param {string} inputId Element ID of the input file picker element.\n",
              " * @param {string} outputId Element ID of the output display.\n",
              " * @return {!Iterable<!Object>} Iterable of next steps.\n",
              " */\n",
              "function* uploadFilesStep(inputId, outputId) {\n",
              "  const inputElement = document.getElementById(inputId);\n",
              "  inputElement.disabled = false;\n",
              "\n",
              "  const outputElement = document.getElementById(outputId);\n",
              "  outputElement.innerHTML = '';\n",
              "\n",
              "  const pickedPromise = new Promise((resolve) => {\n",
              "    inputElement.addEventListener('change', (e) => {\n",
              "      resolve(e.target.files);\n",
              "    });\n",
              "  });\n",
              "\n",
              "  const cancel = document.createElement('button');\n",
              "  inputElement.parentElement.appendChild(cancel);\n",
              "  cancel.textContent = 'Cancel upload';\n",
              "  const cancelPromise = new Promise((resolve) => {\n",
              "    cancel.onclick = () => {\n",
              "      resolve(null);\n",
              "    };\n",
              "  });\n",
              "\n",
              "  // Wait for the user to pick the files.\n",
              "  const files = yield {\n",
              "    promise: Promise.race([pickedPromise, cancelPromise]),\n",
              "    response: {\n",
              "      action: 'starting',\n",
              "    }\n",
              "  };\n",
              "\n",
              "  cancel.remove();\n",
              "\n",
              "  // Disable the input element since further picks are not allowed.\n",
              "  inputElement.disabled = true;\n",
              "\n",
              "  if (!files) {\n",
              "    return {\n",
              "      response: {\n",
              "        action: 'complete',\n",
              "      }\n",
              "    };\n",
              "  }\n",
              "\n",
              "  for (const file of files) {\n",
              "    const li = document.createElement('li');\n",
              "    li.append(span(file.name, {fontWeight: 'bold'}));\n",
              "    li.append(span(\n",
              "        `(${file.type || 'n/a'}) - ${file.size} bytes, ` +\n",
              "        `last modified: ${\n",
              "            file.lastModifiedDate ? file.lastModifiedDate.toLocaleDateString() :\n",
              "                                    'n/a'} - `));\n",
              "    const percent = span('0% done');\n",
              "    li.appendChild(percent);\n",
              "\n",
              "    outputElement.appendChild(li);\n",
              "\n",
              "    const fileDataPromise = new Promise((resolve) => {\n",
              "      const reader = new FileReader();\n",
              "      reader.onload = (e) => {\n",
              "        resolve(e.target.result);\n",
              "      };\n",
              "      reader.readAsArrayBuffer(file);\n",
              "    });\n",
              "    // Wait for the data to be ready.\n",
              "    let fileData = yield {\n",
              "      promise: fileDataPromise,\n",
              "      response: {\n",
              "        action: 'continue',\n",
              "      }\n",
              "    };\n",
              "\n",
              "    // Use a chunked sending to avoid message size limits. See b/62115660.\n",
              "    let position = 0;\n",
              "    do {\n",
              "      const length = Math.min(fileData.byteLength - position, MAX_PAYLOAD_SIZE);\n",
              "      const chunk = new Uint8Array(fileData, position, length);\n",
              "      position += length;\n",
              "\n",
              "      const base64 = btoa(String.fromCharCode.apply(null, chunk));\n",
              "      yield {\n",
              "        response: {\n",
              "          action: 'append',\n",
              "          file: file.name,\n",
              "          data: base64,\n",
              "        },\n",
              "      };\n",
              "\n",
              "      let percentDone = fileData.byteLength === 0 ?\n",
              "          100 :\n",
              "          Math.round((position / fileData.byteLength) * 100);\n",
              "      percent.textContent = `${percentDone}% done`;\n",
              "\n",
              "    } while (position < fileData.byteLength);\n",
              "  }\n",
              "\n",
              "  // All done.\n",
              "  yield {\n",
              "    response: {\n",
              "      action: 'complete',\n",
              "    }\n",
              "  };\n",
              "}\n",
              "\n",
              "scope.google = scope.google || {};\n",
              "scope.google.colab = scope.google.colab || {};\n",
              "scope.google.colab._files = {\n",
              "  _uploadFiles,\n",
              "  _uploadFilesContinue,\n",
              "};\n",
              "})(self);\n",
              "</script> "
            ]
          },
          "metadata": {}
        },
        {
          "output_type": "stream",
          "name": "stdout",
          "text": [
            "Saving company_sales_data.csv to company_sales_data (2).csv\n",
            "    month_number  facecream  facewash  toothpaste  bathingsoap  shampoo  \\\n",
            "0              1       2500      1500        5200         9200     1200   \n",
            "1              2       2630      1200        5100         6100     2100   \n",
            "2              3       2140      1340        4550         9550     3550   \n",
            "3              4       3400      1130        5870         8870     1870   \n",
            "4              5       3600      1740        4560         7760     1560   \n",
            "5              6       2760      1555        4890         7490     1890   \n",
            "6              7       2980      1120        4780         8980     1780   \n",
            "7              8       3700      1400        5860         9960     2860   \n",
            "8              9       3540      1780        6100         8100     2100   \n",
            "9             10       1990      1890        8300        10300     2300   \n",
            "10            11       2340      2100        7300        13300     2400   \n",
            "11            12       2900      1760        7400        14400     1800   \n",
            "\n",
            "    moisturizer  total_units  total_profit  \n",
            "0          1500        21100        211000  \n",
            "1          1200        18330        183300  \n",
            "2          1340        22470        224700  \n",
            "3          1130        22270        222700  \n",
            "4          1740        20960        209600  \n",
            "5          1555        20140        201400  \n",
            "6          1120        29550        295500  \n",
            "7          1400        36140        361400  \n",
            "8          1780        23400        234000  \n",
            "9          1890        26670        266700  \n",
            "10         2100        41280        412800  \n",
            "11         1760        30020        300200  \n"
          ]
        },
        {
          "output_type": "display_data",
          "data": {
            "text/plain": [
              "<Figure size 640x480 with 1 Axes>"
            ],
            "image/png": "[encoded data removed]"
          },
          "metadata": {}
        }
      ]
    },
    {
      "cell_type": "markdown",
      "source": [
        "Exercise : Read face cream and facewash product sales data and show it using the bar chart \\\\\n",
        "The bar chart should display the number of units sold per month for each product. \\\\\n",
        "Add a separate bar for each product in the same chart."
      ],
      "metadata": {
        "id": "muEpI78E0LjF"
      }
    },
    {
      "cell_type": "code",
      "source": [
        "import numpy as np\n",
        "months = df['month_number']\n",
        "face_cream_sales = df['facecream']\n",
        "facewash_sales = df['facewash']\n",
        "\n",
        "plt.bar(months, face_cream_sales, label='Face Cream')\n",
        "plt.bar(months, facewash_sales, label='Facewash')\n",
        "plt.xlabel('Month Number')\n",
        "plt.ylabel('Sales')\n",
        "plt.legend()\n",
        "\n",
        "plt.show()"
      ],
      "metadata": {
        "id": "JmR3PAE71gIi",
        "outputId": "1e32c803-a5b6-4d61-f054-cecfcc5668aa",
        "colab": {
          "base_uri": "https://localhost:8080/",
          "height": 449
        }
      },
      "execution_count": null,
      "outputs": [
        {
          "output_type": "display_data",
          "data": {
            "text/plain": [
              "<Figure size 640x480 with 1 Axes>"
            ],
            "image/png": "[encoded data removed]"
          },
          "metadata": {}
        }
      ]
    }
  ]
}